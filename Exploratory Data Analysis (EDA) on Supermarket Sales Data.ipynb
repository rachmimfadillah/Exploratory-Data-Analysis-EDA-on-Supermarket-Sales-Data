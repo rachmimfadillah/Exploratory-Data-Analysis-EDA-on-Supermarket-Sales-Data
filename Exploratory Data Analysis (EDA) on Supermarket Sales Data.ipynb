{
 "cells": [
  {
   "cell_type": "markdown",
   "id": "cd1a0801",
   "metadata": {},
   "source": [
    "<b> Exploratory Data Analysis (EDA) on Supermarket Sales Data </b>"
   ]
  },
  {
   "cell_type": "code",
   "execution_count": 1,
   "id": "b678a1f9",
   "metadata": {},
   "outputs": [],
   "source": [
    "import numpy as np\n",
    "import pandas as pd"
   ]
  },
  {
   "cell_type": "code",
   "execution_count": 2,
   "id": "418ce222",
   "metadata": {},
   "outputs": [
    {
     "data": {
      "text/html": [
       "<div>\n",
       "<style scoped>\n",
       "    .dataframe tbody tr th:only-of-type {\n",
       "        vertical-align: middle;\n",
       "    }\n",
       "\n",
       "    .dataframe tbody tr th {\n",
       "        vertical-align: top;\n",
       "    }\n",
       "\n",
       "    .dataframe thead th {\n",
       "        text-align: right;\n",
       "    }\n",
       "</style>\n",
       "<table border=\"1\" class=\"dataframe\">\n",
       "  <thead>\n",
       "    <tr style=\"text-align: right;\">\n",
       "      <th></th>\n",
       "      <th>Invoice ID</th>\n",
       "      <th>Branch</th>\n",
       "      <th>City</th>\n",
       "      <th>Customer type</th>\n",
       "      <th>Gender</th>\n",
       "      <th>Product line</th>\n",
       "      <th>Unit price</th>\n",
       "      <th>Quantity</th>\n",
       "      <th>Tax 5%</th>\n",
       "      <th>Total</th>\n",
       "      <th>Date</th>\n",
       "      <th>Time</th>\n",
       "      <th>Payment</th>\n",
       "      <th>cogs</th>\n",
       "      <th>gross margin percentage</th>\n",
       "      <th>gross income</th>\n",
       "      <th>Rating</th>\n",
       "    </tr>\n",
       "  </thead>\n",
       "  <tbody>\n",
       "    <tr>\n",
       "      <th>0</th>\n",
       "      <td>750-67-8428</td>\n",
       "      <td>A</td>\n",
       "      <td>Yangon</td>\n",
       "      <td>Member</td>\n",
       "      <td>Female</td>\n",
       "      <td>Health and beauty</td>\n",
       "      <td>74.69</td>\n",
       "      <td>7</td>\n",
       "      <td>26.1415</td>\n",
       "      <td>548.9715</td>\n",
       "      <td>1/5/2019</td>\n",
       "      <td>13:08</td>\n",
       "      <td>Ewallet</td>\n",
       "      <td>522.83</td>\n",
       "      <td>4.761905</td>\n",
       "      <td>26.1415</td>\n",
       "      <td>9.1</td>\n",
       "    </tr>\n",
       "    <tr>\n",
       "      <th>1</th>\n",
       "      <td>226-31-3081</td>\n",
       "      <td>C</td>\n",
       "      <td>Naypyitaw</td>\n",
       "      <td>Normal</td>\n",
       "      <td>Female</td>\n",
       "      <td>Electronic accessories</td>\n",
       "      <td>15.28</td>\n",
       "      <td>5</td>\n",
       "      <td>3.8200</td>\n",
       "      <td>80.2200</td>\n",
       "      <td>3/8/2019</td>\n",
       "      <td>10:29</td>\n",
       "      <td>Cash</td>\n",
       "      <td>76.40</td>\n",
       "      <td>4.761905</td>\n",
       "      <td>3.8200</td>\n",
       "      <td>9.6</td>\n",
       "    </tr>\n",
       "    <tr>\n",
       "      <th>2</th>\n",
       "      <td>631-41-3108</td>\n",
       "      <td>A</td>\n",
       "      <td>Yangon</td>\n",
       "      <td>Normal</td>\n",
       "      <td>Male</td>\n",
       "      <td>Home and lifestyle</td>\n",
       "      <td>46.33</td>\n",
       "      <td>7</td>\n",
       "      <td>16.2155</td>\n",
       "      <td>340.5255</td>\n",
       "      <td>3/3/2019</td>\n",
       "      <td>13:23</td>\n",
       "      <td>Credit card</td>\n",
       "      <td>324.31</td>\n",
       "      <td>4.761905</td>\n",
       "      <td>16.2155</td>\n",
       "      <td>7.4</td>\n",
       "    </tr>\n",
       "    <tr>\n",
       "      <th>3</th>\n",
       "      <td>123-19-1176</td>\n",
       "      <td>A</td>\n",
       "      <td>Yangon</td>\n",
       "      <td>Member</td>\n",
       "      <td>Male</td>\n",
       "      <td>Health and beauty</td>\n",
       "      <td>58.22</td>\n",
       "      <td>8</td>\n",
       "      <td>23.2880</td>\n",
       "      <td>489.0480</td>\n",
       "      <td>1/27/2019</td>\n",
       "      <td>20:33</td>\n",
       "      <td>Ewallet</td>\n",
       "      <td>465.76</td>\n",
       "      <td>4.761905</td>\n",
       "      <td>23.2880</td>\n",
       "      <td>8.4</td>\n",
       "    </tr>\n",
       "    <tr>\n",
       "      <th>4</th>\n",
       "      <td>373-73-7910</td>\n",
       "      <td>A</td>\n",
       "      <td>Yangon</td>\n",
       "      <td>Normal</td>\n",
       "      <td>Male</td>\n",
       "      <td>Sports and travel</td>\n",
       "      <td>86.31</td>\n",
       "      <td>7</td>\n",
       "      <td>30.2085</td>\n",
       "      <td>634.3785</td>\n",
       "      <td>2/8/2019</td>\n",
       "      <td>10:37</td>\n",
       "      <td>Ewallet</td>\n",
       "      <td>604.17</td>\n",
       "      <td>4.761905</td>\n",
       "      <td>30.2085</td>\n",
       "      <td>5.3</td>\n",
       "    </tr>\n",
       "  </tbody>\n",
       "</table>\n",
       "</div>"
      ],
      "text/plain": [
       "    Invoice ID Branch       City Customer type  Gender  \\\n",
       "0  750-67-8428      A     Yangon        Member  Female   \n",
       "1  226-31-3081      C  Naypyitaw        Normal  Female   \n",
       "2  631-41-3108      A     Yangon        Normal    Male   \n",
       "3  123-19-1176      A     Yangon        Member    Male   \n",
       "4  373-73-7910      A     Yangon        Normal    Male   \n",
       "\n",
       "             Product line  Unit price  Quantity   Tax 5%     Total       Date  \\\n",
       "0       Health and beauty       74.69         7  26.1415  548.9715   1/5/2019   \n",
       "1  Electronic accessories       15.28         5   3.8200   80.2200   3/8/2019   \n",
       "2      Home and lifestyle       46.33         7  16.2155  340.5255   3/3/2019   \n",
       "3       Health and beauty       58.22         8  23.2880  489.0480  1/27/2019   \n",
       "4       Sports and travel       86.31         7  30.2085  634.3785   2/8/2019   \n",
       "\n",
       "    Time      Payment    cogs  gross margin percentage  gross income  Rating  \n",
       "0  13:08      Ewallet  522.83                 4.761905       26.1415     9.1  \n",
       "1  10:29         Cash   76.40                 4.761905        3.8200     9.6  \n",
       "2  13:23  Credit card  324.31                 4.761905       16.2155     7.4  \n",
       "3  20:33      Ewallet  465.76                 4.761905       23.2880     8.4  \n",
       "4  10:37      Ewallet  604.17                 4.761905       30.2085     5.3  "
      ]
     },
     "execution_count": 2,
     "metadata": {},
     "output_type": "execute_result"
    }
   ],
   "source": [
    "df = pd.read_csv('supermarket_sales.csv', delimiter = ',')\n",
    "df.head()"
   ]
  },
  {
   "cell_type": "markdown",
   "id": "1e603ff0",
   "metadata": {},
   "source": [
    "<b> To Do: </b>\n",
    "<br>\n",
    "<b> 1. Check If There is a Missing Values in Each Column </b>"
   ]
  },
  {
   "cell_type": "code",
   "execution_count": 3,
   "id": "2adb33ad",
   "metadata": {},
   "outputs": [
    {
     "name": "stdout",
     "output_type": "stream",
     "text": [
      "Invoice ID                 0\n",
      "Branch                     0\n",
      "City                       0\n",
      "Customer type              0\n",
      "Gender                     0\n",
      "Product line               0\n",
      "Unit price                 0\n",
      "Quantity                   0\n",
      "Tax 5%                     0\n",
      "Total                      0\n",
      "Date                       0\n",
      "Time                       0\n",
      "Payment                    0\n",
      "cogs                       0\n",
      "gross margin percentage    0\n",
      "gross income               0\n",
      "Rating                     0\n",
      "dtype: int64\n"
     ]
    }
   ],
   "source": [
    "print(df.isnull().sum())"
   ]
  },
  {
   "cell_type": "markdown",
   "id": "93e0bfba",
   "metadata": {},
   "source": [
    "<b> All Columns Do not Contain Any Missing Values! </b>"
   ]
  },
  {
   "cell_type": "code",
   "execution_count": 4,
   "id": "4cc9fac6",
   "metadata": {},
   "outputs": [
    {
     "name": "stdout",
     "output_type": "stream",
     "text": [
      "<class 'pandas.core.frame.DataFrame'>\n",
      "RangeIndex: 1000 entries, 0 to 999\n",
      "Data columns (total 17 columns):\n",
      " #   Column                   Non-Null Count  Dtype  \n",
      "---  ------                   --------------  -----  \n",
      " 0   Invoice ID               1000 non-null   object \n",
      " 1   Branch                   1000 non-null   object \n",
      " 2   City                     1000 non-null   object \n",
      " 3   Customer type            1000 non-null   object \n",
      " 4   Gender                   1000 non-null   object \n",
      " 5   Product line             1000 non-null   object \n",
      " 6   Unit price               1000 non-null   float64\n",
      " 7   Quantity                 1000 non-null   int64  \n",
      " 8   Tax 5%                   1000 non-null   float64\n",
      " 9   Total                    1000 non-null   float64\n",
      " 10  Date                     1000 non-null   object \n",
      " 11  Time                     1000 non-null   object \n",
      " 12  Payment                  1000 non-null   object \n",
      " 13  cogs                     1000 non-null   float64\n",
      " 14  gross margin percentage  1000 non-null   float64\n",
      " 15  gross income             1000 non-null   float64\n",
      " 16  Rating                   1000 non-null   float64\n",
      "dtypes: float64(7), int64(1), object(9)\n",
      "memory usage: 132.9+ KB\n"
     ]
    }
   ],
   "source": [
    "df.info()"
   ]
  },
  {
   "cell_type": "markdown",
   "id": "32fdfe87",
   "metadata": {},
   "source": [
    "<b> To Do: </b>\n",
    "<br>\n",
    "<b> 2. Check the Unique Values in Some Columns </b>"
   ]
  },
  {
   "cell_type": "code",
   "execution_count": 5,
   "id": "665a8c4b",
   "metadata": {},
   "outputs": [
    {
     "name": "stdout",
     "output_type": "stream",
     "text": [
      "Branch : ['A' 'C' 'B']\n",
      "City : ['Yangon' 'Naypyitaw' 'Mandalay']\n",
      "Customer type : ['Member' 'Normal']\n",
      "Gender : ['Female' 'Male']\n",
      "Product line : ['Health and beauty' 'Electronic accessories' 'Home and lifestyle'\n",
      " 'Sports and travel' 'Food and beverages' 'Fashion accessories']\n",
      "Quantity : [ 7  5  8  6 10  2  3  4  1  9]\n",
      "Payment : ['Ewallet' 'Cash' 'Credit card']\n",
      "gross margin percentage : [4.76190476]\n",
      "Rating : [ 9.1  9.6  7.4  8.4  5.3  4.1  5.8  8.   7.2  5.9  4.5  6.8  7.1  8.2\n",
      "  5.7  4.6  6.9  8.6  4.4  4.8  5.1  9.9  6.   8.5  6.7  7.7  7.5  7.\n",
      "  4.7  7.6  7.9  6.3  5.6  9.5  8.1  6.5  6.1  6.6  5.4  9.3 10.   6.4\n",
      "  4.3  4.   8.7  9.4  5.5  8.3  7.3  4.9  4.2  9.2  7.8  5.2  9.   8.8\n",
      "  6.2  9.8  9.7  5.   8.9]\n"
     ]
    }
   ],
   "source": [
    "for column in df.columns:\n",
    "    if column in ('Invoice ID', 'Unit price', 'Tax 5%', 'Total', 'Date', 'Time', 'cogs', 'gross income'):\n",
    "        continue\n",
    "    unique_values = df[column].unique()\n",
    "    print(column, \":\", unique_values)"
   ]
  },
  {
   "cell_type": "markdown",
   "id": "59d7f3a7",
   "metadata": {},
   "source": [
    "<b> To Do: </b>\n",
    "<br>\n",
    "<b> 3. Change All Value in Branch Column into 0, 1, or 2 </b>\n",
    "<br>\n",
    "<b> A => 0 <br>\n",
    "    B => 1 <br> C => 2 </b>"
   ]
  },
  {
   "cell_type": "code",
   "execution_count": 6,
   "id": "056c987c",
   "metadata": {},
   "outputs": [],
   "source": [
    "df[\"Branch\"] = df[\"Branch\"].apply(lambda x: {\n",
    "    'A': 0,\n",
    "    'B': 1,\n",
    "    'C': 2,\n",
    "}.get(x, x))"
   ]
  },
  {
   "cell_type": "code",
   "execution_count": 7,
   "id": "5d21c1b9",
   "metadata": {},
   "outputs": [
    {
     "data": {
      "text/plain": [
       "array([0, 2, 1], dtype=int64)"
      ]
     },
     "execution_count": 7,
     "metadata": {},
     "output_type": "execute_result"
    }
   ],
   "source": [
    "df['Branch'].unique()"
   ]
  },
  {
   "cell_type": "markdown",
   "id": "a1961e30",
   "metadata": {},
   "source": [
    "<b> To Do: </b>\n",
    "<br>\n",
    "<b> 4. Change All Value in City Column into 0, 1, or 2 </b>\n",
    "<br>\n",
    "<b> Mandalay => 0 <br>\n",
    "    Naypyitaw => 1 <br> Yangon => 2 </b>"
   ]
  },
  {
   "cell_type": "code",
   "execution_count": 8,
   "id": "bf475234",
   "metadata": {},
   "outputs": [],
   "source": [
    "df[\"City\"] = df[\"City\"].apply(lambda x: {\n",
    "    'Mandalay': 0,\n",
    "    'Naypyitaw': 1,\n",
    "    'Yangon': 2,\n",
    "}.get(x, x))"
   ]
  },
  {
   "cell_type": "code",
   "execution_count": 9,
   "id": "743d8cd9",
   "metadata": {},
   "outputs": [
    {
     "data": {
      "text/plain": [
       "array([2, 1, 0], dtype=int64)"
      ]
     },
     "execution_count": 9,
     "metadata": {},
     "output_type": "execute_result"
    }
   ],
   "source": [
    "df['City'].unique()"
   ]
  },
  {
   "cell_type": "code",
   "execution_count": 10,
   "id": "f2a33ae6",
   "metadata": {},
   "outputs": [
    {
     "data": {
      "text/html": [
       "<div>\n",
       "<style scoped>\n",
       "    .dataframe tbody tr th:only-of-type {\n",
       "        vertical-align: middle;\n",
       "    }\n",
       "\n",
       "    .dataframe tbody tr th {\n",
       "        vertical-align: top;\n",
       "    }\n",
       "\n",
       "    .dataframe thead th {\n",
       "        text-align: right;\n",
       "    }\n",
       "</style>\n",
       "<table border=\"1\" class=\"dataframe\">\n",
       "  <thead>\n",
       "    <tr style=\"text-align: right;\">\n",
       "      <th></th>\n",
       "      <th>Invoice ID</th>\n",
       "      <th>Branch</th>\n",
       "      <th>City</th>\n",
       "      <th>Customer type</th>\n",
       "      <th>Gender</th>\n",
       "      <th>Product line</th>\n",
       "      <th>Unit price</th>\n",
       "      <th>Quantity</th>\n",
       "      <th>Tax 5%</th>\n",
       "      <th>Total</th>\n",
       "      <th>Date</th>\n",
       "      <th>Time</th>\n",
       "      <th>Payment</th>\n",
       "      <th>cogs</th>\n",
       "      <th>gross margin percentage</th>\n",
       "      <th>gross income</th>\n",
       "      <th>Rating</th>\n",
       "    </tr>\n",
       "  </thead>\n",
       "  <tbody>\n",
       "    <tr>\n",
       "      <th>0</th>\n",
       "      <td>750-67-8428</td>\n",
       "      <td>0</td>\n",
       "      <td>2</td>\n",
       "      <td>Member</td>\n",
       "      <td>Female</td>\n",
       "      <td>Health and beauty</td>\n",
       "      <td>74.69</td>\n",
       "      <td>7</td>\n",
       "      <td>26.1415</td>\n",
       "      <td>548.9715</td>\n",
       "      <td>1/5/2019</td>\n",
       "      <td>13:08</td>\n",
       "      <td>Ewallet</td>\n",
       "      <td>522.83</td>\n",
       "      <td>4.761905</td>\n",
       "      <td>26.1415</td>\n",
       "      <td>9.1</td>\n",
       "    </tr>\n",
       "    <tr>\n",
       "      <th>1</th>\n",
       "      <td>226-31-3081</td>\n",
       "      <td>2</td>\n",
       "      <td>1</td>\n",
       "      <td>Normal</td>\n",
       "      <td>Female</td>\n",
       "      <td>Electronic accessories</td>\n",
       "      <td>15.28</td>\n",
       "      <td>5</td>\n",
       "      <td>3.8200</td>\n",
       "      <td>80.2200</td>\n",
       "      <td>3/8/2019</td>\n",
       "      <td>10:29</td>\n",
       "      <td>Cash</td>\n",
       "      <td>76.40</td>\n",
       "      <td>4.761905</td>\n",
       "      <td>3.8200</td>\n",
       "      <td>9.6</td>\n",
       "    </tr>\n",
       "    <tr>\n",
       "      <th>2</th>\n",
       "      <td>631-41-3108</td>\n",
       "      <td>0</td>\n",
       "      <td>2</td>\n",
       "      <td>Normal</td>\n",
       "      <td>Male</td>\n",
       "      <td>Home and lifestyle</td>\n",
       "      <td>46.33</td>\n",
       "      <td>7</td>\n",
       "      <td>16.2155</td>\n",
       "      <td>340.5255</td>\n",
       "      <td>3/3/2019</td>\n",
       "      <td>13:23</td>\n",
       "      <td>Credit card</td>\n",
       "      <td>324.31</td>\n",
       "      <td>4.761905</td>\n",
       "      <td>16.2155</td>\n",
       "      <td>7.4</td>\n",
       "    </tr>\n",
       "    <tr>\n",
       "      <th>3</th>\n",
       "      <td>123-19-1176</td>\n",
       "      <td>0</td>\n",
       "      <td>2</td>\n",
       "      <td>Member</td>\n",
       "      <td>Male</td>\n",
       "      <td>Health and beauty</td>\n",
       "      <td>58.22</td>\n",
       "      <td>8</td>\n",
       "      <td>23.2880</td>\n",
       "      <td>489.0480</td>\n",
       "      <td>1/27/2019</td>\n",
       "      <td>20:33</td>\n",
       "      <td>Ewallet</td>\n",
       "      <td>465.76</td>\n",
       "      <td>4.761905</td>\n",
       "      <td>23.2880</td>\n",
       "      <td>8.4</td>\n",
       "    </tr>\n",
       "    <tr>\n",
       "      <th>4</th>\n",
       "      <td>373-73-7910</td>\n",
       "      <td>0</td>\n",
       "      <td>2</td>\n",
       "      <td>Normal</td>\n",
       "      <td>Male</td>\n",
       "      <td>Sports and travel</td>\n",
       "      <td>86.31</td>\n",
       "      <td>7</td>\n",
       "      <td>30.2085</td>\n",
       "      <td>634.3785</td>\n",
       "      <td>2/8/2019</td>\n",
       "      <td>10:37</td>\n",
       "      <td>Ewallet</td>\n",
       "      <td>604.17</td>\n",
       "      <td>4.761905</td>\n",
       "      <td>30.2085</td>\n",
       "      <td>5.3</td>\n",
       "    </tr>\n",
       "  </tbody>\n",
       "</table>\n",
       "</div>"
      ],
      "text/plain": [
       "    Invoice ID  Branch  City Customer type  Gender            Product line  \\\n",
       "0  750-67-8428       0     2        Member  Female       Health and beauty   \n",
       "1  226-31-3081       2     1        Normal  Female  Electronic accessories   \n",
       "2  631-41-3108       0     2        Normal    Male      Home and lifestyle   \n",
       "3  123-19-1176       0     2        Member    Male       Health and beauty   \n",
       "4  373-73-7910       0     2        Normal    Male       Sports and travel   \n",
       "\n",
       "   Unit price  Quantity   Tax 5%     Total       Date   Time      Payment  \\\n",
       "0       74.69         7  26.1415  548.9715   1/5/2019  13:08      Ewallet   \n",
       "1       15.28         5   3.8200   80.2200   3/8/2019  10:29         Cash   \n",
       "2       46.33         7  16.2155  340.5255   3/3/2019  13:23  Credit card   \n",
       "3       58.22         8  23.2880  489.0480  1/27/2019  20:33      Ewallet   \n",
       "4       86.31         7  30.2085  634.3785   2/8/2019  10:37      Ewallet   \n",
       "\n",
       "     cogs  gross margin percentage  gross income  Rating  \n",
       "0  522.83                 4.761905       26.1415     9.1  \n",
       "1   76.40                 4.761905        3.8200     9.6  \n",
       "2  324.31                 4.761905       16.2155     7.4  \n",
       "3  465.76                 4.761905       23.2880     8.4  \n",
       "4  604.17                 4.761905       30.2085     5.3  "
      ]
     },
     "execution_count": 10,
     "metadata": {},
     "output_type": "execute_result"
    }
   ],
   "source": [
    "df.head()"
   ]
  },
  {
   "cell_type": "markdown",
   "id": "f069ce06",
   "metadata": {},
   "source": [
    "<b> To Do: </b>\n",
    "<br>\n",
    "<b> 5. Change All Value in Customer type Column into 0 or 1 </b>\n",
    "<br>\n",
    "<b> Normal => 0 <br>\n",
    "    Member => 1 </b>"
   ]
  },
  {
   "cell_type": "code",
   "execution_count": 11,
   "id": "dcc181aa",
   "metadata": {},
   "outputs": [],
   "source": [
    "df[\"Customer type\"] = df[\"Customer type\"].apply(lambda x: {\n",
    "    'Normal': 0,\n",
    "    'Member': 1,\n",
    "}.get(x, x))"
   ]
  },
  {
   "cell_type": "code",
   "execution_count": 12,
   "id": "a9c01707",
   "metadata": {},
   "outputs": [
    {
     "data": {
      "text/plain": [
       "array([1, 0], dtype=int64)"
      ]
     },
     "execution_count": 12,
     "metadata": {},
     "output_type": "execute_result"
    }
   ],
   "source": [
    "df['Customer type'].unique()"
   ]
  },
  {
   "cell_type": "markdown",
   "id": "4c66f76c",
   "metadata": {},
   "source": [
    "<b> To Do: </b>\n",
    "<br>\n",
    "<b> 6. Change All Value in Gender Column into 0 or 1 </b>\n",
    "<br>\n",
    "<b> Male => 0 <br>\n",
    "    Female => 1 </b>"
   ]
  },
  {
   "cell_type": "code",
   "execution_count": 13,
   "id": "5ef05317",
   "metadata": {},
   "outputs": [],
   "source": [
    "df['Gender'] = df['Gender'].apply(lambda x: {\n",
    "    'Male': 0,\n",
    "    'Female': 1,\n",
    "}.get(x, x))"
   ]
  },
  {
   "cell_type": "code",
   "execution_count": 14,
   "id": "1a443d6e",
   "metadata": {},
   "outputs": [
    {
     "data": {
      "text/plain": [
       "array([1, 0], dtype=int64)"
      ]
     },
     "execution_count": 14,
     "metadata": {},
     "output_type": "execute_result"
    }
   ],
   "source": [
    "df['Gender'].unique()"
   ]
  },
  {
   "cell_type": "code",
   "execution_count": 15,
   "id": "e6ef9a98",
   "metadata": {},
   "outputs": [
    {
     "data": {
      "text/plain": [
       "['Electronic accessories',\n",
       " 'Fashion accessories',\n",
       " 'Food and beverages',\n",
       " 'Health and beauty',\n",
       " 'Home and lifestyle',\n",
       " 'Sports and travel']"
      ]
     },
     "execution_count": 15,
     "metadata": {},
     "output_type": "execute_result"
    }
   ],
   "source": [
    "lst = list(df['Product line'].unique())\n",
    "lst.sort()\n",
    "lst"
   ]
  },
  {
   "cell_type": "markdown",
   "id": "fc8cdb2e",
   "metadata": {},
   "source": [
    "<b> To Do: </b>\n",
    "<br>\n",
    "<b> 7. Change All Value in Product line Column into 0, 1, 2, 3, 4, or 5 </b>\n",
    "<br>\n",
    "<b> Electronic accessories => 0 <br>\n",
    "    Fashion accessories => 1 <br>\n",
    "    Food and beverages => 2 <br>\n",
    "    Health and beauty => 3 <br>\n",
    "    Home and lifestyle => 4 <br>\n",
    "    Sports and travel = > 5 <br>\n",
    "</b>"
   ]
  },
  {
   "cell_type": "code",
   "execution_count": 16,
   "id": "1b2ff44e",
   "metadata": {},
   "outputs": [],
   "source": [
    "df['Product line'] = df['Product line'].apply(lambda x: {\n",
    "    'Electronic accessories': 0,\n",
    "    'Fashion accessories': 1,\n",
    "    'Food and beverages': 2,\n",
    "    'Health and beauty': 3,\n",
    "    'Home and lifestyle': 4,\n",
    "    'Sports and travel': 5\n",
    "}.get(x, x))"
   ]
  },
  {
   "cell_type": "code",
   "execution_count": 17,
   "id": "ffc8c74d",
   "metadata": {},
   "outputs": [
    {
     "data": {
      "text/plain": [
       "array([3, 0, 4, 5, 2, 1], dtype=int64)"
      ]
     },
     "execution_count": 17,
     "metadata": {},
     "output_type": "execute_result"
    }
   ],
   "source": [
    "df['Product line'].unique()"
   ]
  },
  {
   "cell_type": "code",
   "execution_count": 18,
   "id": "ec4d1439",
   "metadata": {},
   "outputs": [
    {
     "name": "stdout",
     "output_type": "stream",
     "text": [
      "<class 'pandas.core.frame.DataFrame'>\n",
      "RangeIndex: 1000 entries, 0 to 999\n",
      "Data columns (total 17 columns):\n",
      " #   Column                   Non-Null Count  Dtype  \n",
      "---  ------                   --------------  -----  \n",
      " 0   Invoice ID               1000 non-null   object \n",
      " 1   Branch                   1000 non-null   int64  \n",
      " 2   City                     1000 non-null   int64  \n",
      " 3   Customer type            1000 non-null   int64  \n",
      " 4   Gender                   1000 non-null   int64  \n",
      " 5   Product line             1000 non-null   int64  \n",
      " 6   Unit price               1000 non-null   float64\n",
      " 7   Quantity                 1000 non-null   int64  \n",
      " 8   Tax 5%                   1000 non-null   float64\n",
      " 9   Total                    1000 non-null   float64\n",
      " 10  Date                     1000 non-null   object \n",
      " 11  Time                     1000 non-null   object \n",
      " 12  Payment                  1000 non-null   object \n",
      " 13  cogs                     1000 non-null   float64\n",
      " 14  gross margin percentage  1000 non-null   float64\n",
      " 15  gross income             1000 non-null   float64\n",
      " 16  Rating                   1000 non-null   float64\n",
      "dtypes: float64(7), int64(6), object(4)\n",
      "memory usage: 132.9+ KB\n"
     ]
    }
   ],
   "source": [
    "df.info()"
   ]
  },
  {
   "cell_type": "code",
   "execution_count": 19,
   "id": "8747c655",
   "metadata": {},
   "outputs": [
    {
     "data": {
      "text/plain": [
       "['Cash', 'Credit card', 'Ewallet']"
      ]
     },
     "execution_count": 19,
     "metadata": {},
     "output_type": "execute_result"
    }
   ],
   "source": [
    "sorted(df['Payment'].unique())"
   ]
  },
  {
   "cell_type": "markdown",
   "id": "d879b990",
   "metadata": {},
   "source": [
    "<b> To Do: </b>\n",
    "<br>\n",
    "<b> 8. Change All Value in Payment Column into 0, 1, or 2 </b>\n",
    "<br>\n",
    "<b> Cash => 0 <br>\n",
    "    Credit Card => 1 <br>\n",
    "    Ewallet => 2 <br>\n",
    "</b>"
   ]
  },
  {
   "cell_type": "code",
   "execution_count": 20,
   "id": "867615ea",
   "metadata": {},
   "outputs": [],
   "source": [
    "df['Payment'] = df['Payment'].apply(lambda x: {\n",
    "    'Cash': 0,\n",
    "    'Credit card': 1,\n",
    "    'Ewallet': 2,\n",
    "}.get(x, x))"
   ]
  },
  {
   "cell_type": "code",
   "execution_count": 21,
   "id": "a8611b34",
   "metadata": {},
   "outputs": [
    {
     "data": {
      "text/plain": [
       "array([2, 0, 1], dtype=int64)"
      ]
     },
     "execution_count": 21,
     "metadata": {},
     "output_type": "execute_result"
    }
   ],
   "source": [
    "df['Payment'].unique()"
   ]
  },
  {
   "cell_type": "markdown",
   "id": "09c74692",
   "metadata": {},
   "source": [
    "<b> To Do: </b>\n",
    "<br>\n",
    "<b> 9. Change All Value in Date Column into Datetime datatype </b>"
   ]
  },
  {
   "cell_type": "code",
   "execution_count": 22,
   "id": "c1aad9e5",
   "metadata": {},
   "outputs": [],
   "source": [
    "df['Date'] = pd.to_datetime(df['Date'])"
   ]
  },
  {
   "cell_type": "code",
   "execution_count": 23,
   "id": "9442dd5e",
   "metadata": {},
   "outputs": [
    {
     "name": "stdout",
     "output_type": "stream",
     "text": [
      "<class 'pandas.core.frame.DataFrame'>\n",
      "RangeIndex: 1000 entries, 0 to 999\n",
      "Data columns (total 17 columns):\n",
      " #   Column                   Non-Null Count  Dtype         \n",
      "---  ------                   --------------  -----         \n",
      " 0   Invoice ID               1000 non-null   object        \n",
      " 1   Branch                   1000 non-null   int64         \n",
      " 2   City                     1000 non-null   int64         \n",
      " 3   Customer type            1000 non-null   int64         \n",
      " 4   Gender                   1000 non-null   int64         \n",
      " 5   Product line             1000 non-null   int64         \n",
      " 6   Unit price               1000 non-null   float64       \n",
      " 7   Quantity                 1000 non-null   int64         \n",
      " 8   Tax 5%                   1000 non-null   float64       \n",
      " 9   Total                    1000 non-null   float64       \n",
      " 10  Date                     1000 non-null   datetime64[ns]\n",
      " 11  Time                     1000 non-null   object        \n",
      " 12  Payment                  1000 non-null   int64         \n",
      " 13  cogs                     1000 non-null   float64       \n",
      " 14  gross margin percentage  1000 non-null   float64       \n",
      " 15  gross income             1000 non-null   float64       \n",
      " 16  Rating                   1000 non-null   float64       \n",
      "dtypes: datetime64[ns](1), float64(7), int64(7), object(2)\n",
      "memory usage: 132.9+ KB\n"
     ]
    }
   ],
   "source": [
    "df.info()"
   ]
  },
  {
   "cell_type": "markdown",
   "id": "2f68989c",
   "metadata": {},
   "source": [
    "<b> To Do: </b>\n",
    "<br>\n",
    "<b> 10. Change All Value in COGS Column into float datatype and round it to 2 digits after the decimal point. </b>"
   ]
  },
  {
   "cell_type": "code",
   "execution_count": 24,
   "id": "f22ede4d",
   "metadata": {},
   "outputs": [],
   "source": [
    "df['cogs'] = df['cogs'].astype(float).round(2)\n"
   ]
  },
  {
   "cell_type": "code",
   "execution_count": 25,
   "id": "8867a222",
   "metadata": {},
   "outputs": [
    {
     "data": {
      "text/plain": [
       "0      522.83\n",
       "1       76.40\n",
       "2      324.31\n",
       "3      465.76\n",
       "4      604.17\n",
       "        ...  \n",
       "995     40.35\n",
       "996    973.80\n",
       "997     31.84\n",
       "998     65.82\n",
       "999    618.38\n",
       "Name: cogs, Length: 1000, dtype: float64"
      ]
     },
     "execution_count": 25,
     "metadata": {},
     "output_type": "execute_result"
    }
   ],
   "source": [
    "df['cogs']"
   ]
  },
  {
   "cell_type": "markdown",
   "id": "40e5bbfe",
   "metadata": {},
   "source": [
    "<b> To Do: </b>\n",
    "<br>\n",
    "<b> 11. Change All Value in gross margin percentage Column into float datatype and round it to 2 digits after the decimal point. </b>"
   ]
  },
  {
   "cell_type": "code",
   "execution_count": 26,
   "id": "0edb03eb",
   "metadata": {},
   "outputs": [],
   "source": [
    "df['gross margin percentage'] = df['gross margin percentage'].astype(float).round(2)\n"
   ]
  },
  {
   "cell_type": "code",
   "execution_count": 27,
   "id": "89843773",
   "metadata": {},
   "outputs": [
    {
     "data": {
      "text/plain": [
       "0      4.76\n",
       "1      4.76\n",
       "2      4.76\n",
       "3      4.76\n",
       "4      4.76\n",
       "       ... \n",
       "995    4.76\n",
       "996    4.76\n",
       "997    4.76\n",
       "998    4.76\n",
       "999    4.76\n",
       "Name: gross margin percentage, Length: 1000, dtype: float64"
      ]
     },
     "execution_count": 27,
     "metadata": {},
     "output_type": "execute_result"
    }
   ],
   "source": [
    "df['gross margin percentage']"
   ]
  },
  {
   "cell_type": "markdown",
   "id": "0d6d54b3",
   "metadata": {},
   "source": [
    "<b> To Do: </b>\n",
    "<br>\n",
    "<b> 11. Change All Value in gross income Column into float datatype and round it to 2 digits after the decimal point. </b>"
   ]
  },
  {
   "cell_type": "code",
   "execution_count": 28,
   "id": "d3c0e9ab",
   "metadata": {},
   "outputs": [],
   "source": [
    "df['gross income'] = df['gross income'].astype(float).round(2)\n"
   ]
  },
  {
   "cell_type": "code",
   "execution_count": 29,
   "id": "bf63dbb5",
   "metadata": {},
   "outputs": [
    {
     "data": {
      "text/plain": [
       "0      26.14\n",
       "1       3.82\n",
       "2      16.22\n",
       "3      23.29\n",
       "4      30.21\n",
       "       ...  \n",
       "995     2.02\n",
       "996    48.69\n",
       "997     1.59\n",
       "998     3.29\n",
       "999    30.92\n",
       "Name: gross income, Length: 1000, dtype: float64"
      ]
     },
     "execution_count": 29,
     "metadata": {},
     "output_type": "execute_result"
    }
   ],
   "source": [
    "df['gross income']"
   ]
  },
  {
   "cell_type": "markdown",
   "id": "5d3331fb",
   "metadata": {},
   "source": [
    "<b> To Do: </b>\n",
    "<br>\n",
    "<b> 12. Change All Value in Total Column into float datatype and round it to 2 digits after the decimal point. </b>"
   ]
  },
  {
   "cell_type": "code",
   "execution_count": 30,
   "id": "85f19e85",
   "metadata": {},
   "outputs": [
    {
     "data": {
      "text/plain": [
       "0       548.97\n",
       "1        80.22\n",
       "2       340.53\n",
       "3       489.05\n",
       "4       634.38\n",
       "        ...   \n",
       "995      42.37\n",
       "996    1022.49\n",
       "997      33.43\n",
       "998      69.11\n",
       "999     649.30\n",
       "Name: Total, Length: 1000, dtype: float64"
      ]
     },
     "execution_count": 30,
     "metadata": {},
     "output_type": "execute_result"
    }
   ],
   "source": [
    "df['Total'] = df['Total'].astype(float).round(2)\n",
    "df['Total']"
   ]
  },
  {
   "cell_type": "markdown",
   "id": "ed8e2fe1",
   "metadata": {},
   "source": [
    "<b> To Do: </b>\n",
    "<br>\n",
    "<b> 13. Change All Value in Tax 5% into float datatype and round it to 2 digits after the decimal point. </b>"
   ]
  },
  {
   "cell_type": "code",
   "execution_count": 31,
   "id": "d58c2407",
   "metadata": {},
   "outputs": [
    {
     "data": {
      "text/plain": [
       "0      26.14\n",
       "1       3.82\n",
       "2      16.22\n",
       "3      23.29\n",
       "4      30.21\n",
       "       ...  \n",
       "995     2.02\n",
       "996    48.69\n",
       "997     1.59\n",
       "998     3.29\n",
       "999    30.92\n",
       "Name: Tax 5%, Length: 1000, dtype: float64"
      ]
     },
     "execution_count": 31,
     "metadata": {},
     "output_type": "execute_result"
    }
   ],
   "source": [
    "df['Tax 5%'] = df['Tax 5%'].astype(float).round(2)\n",
    "df['Tax 5%']"
   ]
  },
  {
   "cell_type": "code",
   "execution_count": 32,
   "id": "b5a756ff",
   "metadata": {},
   "outputs": [
    {
     "data": {
      "text/html": [
       "<div>\n",
       "<style scoped>\n",
       "    .dataframe tbody tr th:only-of-type {\n",
       "        vertical-align: middle;\n",
       "    }\n",
       "\n",
       "    .dataframe tbody tr th {\n",
       "        vertical-align: top;\n",
       "    }\n",
       "\n",
       "    .dataframe thead th {\n",
       "        text-align: right;\n",
       "    }\n",
       "</style>\n",
       "<table border=\"1\" class=\"dataframe\">\n",
       "  <thead>\n",
       "    <tr style=\"text-align: right;\">\n",
       "      <th></th>\n",
       "      <th>Invoice ID</th>\n",
       "      <th>Branch</th>\n",
       "      <th>City</th>\n",
       "      <th>Customer type</th>\n",
       "      <th>Gender</th>\n",
       "      <th>Product line</th>\n",
       "      <th>Unit price</th>\n",
       "      <th>Quantity</th>\n",
       "      <th>Tax 5%</th>\n",
       "      <th>Total</th>\n",
       "      <th>Date</th>\n",
       "      <th>Time</th>\n",
       "      <th>Payment</th>\n",
       "      <th>cogs</th>\n",
       "      <th>gross margin percentage</th>\n",
       "      <th>gross income</th>\n",
       "      <th>Rating</th>\n",
       "    </tr>\n",
       "  </thead>\n",
       "  <tbody>\n",
       "    <tr>\n",
       "      <th>0</th>\n",
       "      <td>750-67-8428</td>\n",
       "      <td>0</td>\n",
       "      <td>2</td>\n",
       "      <td>1</td>\n",
       "      <td>1</td>\n",
       "      <td>3</td>\n",
       "      <td>74.69</td>\n",
       "      <td>7</td>\n",
       "      <td>26.14</td>\n",
       "      <td>548.97</td>\n",
       "      <td>2019-01-05</td>\n",
       "      <td>13:08</td>\n",
       "      <td>2</td>\n",
       "      <td>522.83</td>\n",
       "      <td>4.76</td>\n",
       "      <td>26.14</td>\n",
       "      <td>9.1</td>\n",
       "    </tr>\n",
       "    <tr>\n",
       "      <th>1</th>\n",
       "      <td>226-31-3081</td>\n",
       "      <td>2</td>\n",
       "      <td>1</td>\n",
       "      <td>0</td>\n",
       "      <td>1</td>\n",
       "      <td>0</td>\n",
       "      <td>15.28</td>\n",
       "      <td>5</td>\n",
       "      <td>3.82</td>\n",
       "      <td>80.22</td>\n",
       "      <td>2019-03-08</td>\n",
       "      <td>10:29</td>\n",
       "      <td>0</td>\n",
       "      <td>76.40</td>\n",
       "      <td>4.76</td>\n",
       "      <td>3.82</td>\n",
       "      <td>9.6</td>\n",
       "    </tr>\n",
       "    <tr>\n",
       "      <th>2</th>\n",
       "      <td>631-41-3108</td>\n",
       "      <td>0</td>\n",
       "      <td>2</td>\n",
       "      <td>0</td>\n",
       "      <td>0</td>\n",
       "      <td>4</td>\n",
       "      <td>46.33</td>\n",
       "      <td>7</td>\n",
       "      <td>16.22</td>\n",
       "      <td>340.53</td>\n",
       "      <td>2019-03-03</td>\n",
       "      <td>13:23</td>\n",
       "      <td>1</td>\n",
       "      <td>324.31</td>\n",
       "      <td>4.76</td>\n",
       "      <td>16.22</td>\n",
       "      <td>7.4</td>\n",
       "    </tr>\n",
       "    <tr>\n",
       "      <th>3</th>\n",
       "      <td>123-19-1176</td>\n",
       "      <td>0</td>\n",
       "      <td>2</td>\n",
       "      <td>1</td>\n",
       "      <td>0</td>\n",
       "      <td>3</td>\n",
       "      <td>58.22</td>\n",
       "      <td>8</td>\n",
       "      <td>23.29</td>\n",
       "      <td>489.05</td>\n",
       "      <td>2019-01-27</td>\n",
       "      <td>20:33</td>\n",
       "      <td>2</td>\n",
       "      <td>465.76</td>\n",
       "      <td>4.76</td>\n",
       "      <td>23.29</td>\n",
       "      <td>8.4</td>\n",
       "    </tr>\n",
       "    <tr>\n",
       "      <th>4</th>\n",
       "      <td>373-73-7910</td>\n",
       "      <td>0</td>\n",
       "      <td>2</td>\n",
       "      <td>0</td>\n",
       "      <td>0</td>\n",
       "      <td>5</td>\n",
       "      <td>86.31</td>\n",
       "      <td>7</td>\n",
       "      <td>30.21</td>\n",
       "      <td>634.38</td>\n",
       "      <td>2019-02-08</td>\n",
       "      <td>10:37</td>\n",
       "      <td>2</td>\n",
       "      <td>604.17</td>\n",
       "      <td>4.76</td>\n",
       "      <td>30.21</td>\n",
       "      <td>5.3</td>\n",
       "    </tr>\n",
       "  </tbody>\n",
       "</table>\n",
       "</div>"
      ],
      "text/plain": [
       "    Invoice ID  Branch  City  Customer type  Gender  Product line  Unit price  \\\n",
       "0  750-67-8428       0     2              1       1             3       74.69   \n",
       "1  226-31-3081       2     1              0       1             0       15.28   \n",
       "2  631-41-3108       0     2              0       0             4       46.33   \n",
       "3  123-19-1176       0     2              1       0             3       58.22   \n",
       "4  373-73-7910       0     2              0       0             5       86.31   \n",
       "\n",
       "   Quantity  Tax 5%   Total       Date   Time  Payment    cogs  \\\n",
       "0         7   26.14  548.97 2019-01-05  13:08        2  522.83   \n",
       "1         5    3.82   80.22 2019-03-08  10:29        0   76.40   \n",
       "2         7   16.22  340.53 2019-03-03  13:23        1  324.31   \n",
       "3         8   23.29  489.05 2019-01-27  20:33        2  465.76   \n",
       "4         7   30.21  634.38 2019-02-08  10:37        2  604.17   \n",
       "\n",
       "   gross margin percentage  gross income  Rating  \n",
       "0                     4.76         26.14     9.1  \n",
       "1                     4.76          3.82     9.6  \n",
       "2                     4.76         16.22     7.4  \n",
       "3                     4.76         23.29     8.4  \n",
       "4                     4.76         30.21     5.3  "
      ]
     },
     "execution_count": 32,
     "metadata": {},
     "output_type": "execute_result"
    }
   ],
   "source": [
    "df.head()"
   ]
  },
  {
   "cell_type": "markdown",
   "id": "9219b349",
   "metadata": {},
   "source": [
    "<b> DATA CLEANING PROCESS IS DONE! <br> NOW IT IS TIME TO ANALYZE IT! </b>"
   ]
  },
  {
   "cell_type": "markdown",
   "id": "3d808c21",
   "metadata": {},
   "source": [
    "<b> To Do: <br>\n",
    "    1. Sort the dataframe based on Invoice ID column, in an ascending order </b>"
   ]
  },
  {
   "cell_type": "code",
   "execution_count": 33,
   "id": "85e511fa",
   "metadata": {},
   "outputs": [
    {
     "data": {
      "text/html": [
       "<div>\n",
       "<style scoped>\n",
       "    .dataframe tbody tr th:only-of-type {\n",
       "        vertical-align: middle;\n",
       "    }\n",
       "\n",
       "    .dataframe tbody tr th {\n",
       "        vertical-align: top;\n",
       "    }\n",
       "\n",
       "    .dataframe thead th {\n",
       "        text-align: right;\n",
       "    }\n",
       "</style>\n",
       "<table border=\"1\" class=\"dataframe\">\n",
       "  <thead>\n",
       "    <tr style=\"text-align: right;\">\n",
       "      <th></th>\n",
       "      <th>Invoice ID</th>\n",
       "      <th>Branch</th>\n",
       "      <th>City</th>\n",
       "      <th>Customer type</th>\n",
       "      <th>Gender</th>\n",
       "      <th>Product line</th>\n",
       "      <th>Unit price</th>\n",
       "      <th>Quantity</th>\n",
       "      <th>Tax 5%</th>\n",
       "      <th>Total</th>\n",
       "      <th>Date</th>\n",
       "      <th>Time</th>\n",
       "      <th>Payment</th>\n",
       "      <th>cogs</th>\n",
       "      <th>gross margin percentage</th>\n",
       "      <th>gross income</th>\n",
       "      <th>Rating</th>\n",
       "    </tr>\n",
       "  </thead>\n",
       "  <tbody>\n",
       "    <tr>\n",
       "      <th>162</th>\n",
       "      <td>101-17-6199</td>\n",
       "      <td>0</td>\n",
       "      <td>2</td>\n",
       "      <td>0</td>\n",
       "      <td>0</td>\n",
       "      <td>2</td>\n",
       "      <td>45.79</td>\n",
       "      <td>7</td>\n",
       "      <td>16.03</td>\n",
       "      <td>336.56</td>\n",
       "      <td>2019-03-13</td>\n",
       "      <td>19:44</td>\n",
       "      <td>1</td>\n",
       "      <td>320.53</td>\n",
       "      <td>4.76</td>\n",
       "      <td>16.03</td>\n",
       "      <td>7.0</td>\n",
       "    </tr>\n",
       "    <tr>\n",
       "      <th>867</th>\n",
       "      <td>101-81-4070</td>\n",
       "      <td>2</td>\n",
       "      <td>1</td>\n",
       "      <td>1</td>\n",
       "      <td>1</td>\n",
       "      <td>3</td>\n",
       "      <td>62.82</td>\n",
       "      <td>2</td>\n",
       "      <td>6.28</td>\n",
       "      <td>131.92</td>\n",
       "      <td>2019-01-17</td>\n",
       "      <td>12:36</td>\n",
       "      <td>2</td>\n",
       "      <td>125.64</td>\n",
       "      <td>4.76</td>\n",
       "      <td>6.28</td>\n",
       "      <td>4.9</td>\n",
       "    </tr>\n",
       "    <tr>\n",
       "      <th>778</th>\n",
       "      <td>102-06-2002</td>\n",
       "      <td>2</td>\n",
       "      <td>1</td>\n",
       "      <td>1</td>\n",
       "      <td>0</td>\n",
       "      <td>5</td>\n",
       "      <td>25.25</td>\n",
       "      <td>5</td>\n",
       "      <td>6.31</td>\n",
       "      <td>132.56</td>\n",
       "      <td>2019-03-20</td>\n",
       "      <td>17:52</td>\n",
       "      <td>0</td>\n",
       "      <td>126.25</td>\n",
       "      <td>4.76</td>\n",
       "      <td>6.31</td>\n",
       "      <td>6.1</td>\n",
       "    </tr>\n",
       "    <tr>\n",
       "      <th>776</th>\n",
       "      <td>102-77-2261</td>\n",
       "      <td>2</td>\n",
       "      <td>1</td>\n",
       "      <td>1</td>\n",
       "      <td>0</td>\n",
       "      <td>3</td>\n",
       "      <td>65.31</td>\n",
       "      <td>7</td>\n",
       "      <td>22.86</td>\n",
       "      <td>480.03</td>\n",
       "      <td>2019-03-05</td>\n",
       "      <td>18:02</td>\n",
       "      <td>1</td>\n",
       "      <td>457.17</td>\n",
       "      <td>4.76</td>\n",
       "      <td>22.86</td>\n",
       "      <td>4.2</td>\n",
       "    </tr>\n",
       "    <tr>\n",
       "      <th>683</th>\n",
       "      <td>105-10-6182</td>\n",
       "      <td>0</td>\n",
       "      <td>2</td>\n",
       "      <td>1</td>\n",
       "      <td>0</td>\n",
       "      <td>1</td>\n",
       "      <td>21.48</td>\n",
       "      <td>2</td>\n",
       "      <td>2.15</td>\n",
       "      <td>45.11</td>\n",
       "      <td>2019-02-27</td>\n",
       "      <td>12:22</td>\n",
       "      <td>2</td>\n",
       "      <td>42.96</td>\n",
       "      <td>4.76</td>\n",
       "      <td>2.15</td>\n",
       "      <td>6.6</td>\n",
       "    </tr>\n",
       "  </tbody>\n",
       "</table>\n",
       "</div>"
      ],
      "text/plain": [
       "      Invoice ID  Branch  City  Customer type  Gender  Product line  \\\n",
       "162  101-17-6199       0     2              0       0             2   \n",
       "867  101-81-4070       2     1              1       1             3   \n",
       "778  102-06-2002       2     1              1       0             5   \n",
       "776  102-77-2261       2     1              1       0             3   \n",
       "683  105-10-6182       0     2              1       0             1   \n",
       "\n",
       "     Unit price  Quantity  Tax 5%   Total       Date   Time  Payment    cogs  \\\n",
       "162       45.79         7   16.03  336.56 2019-03-13  19:44        1  320.53   \n",
       "867       62.82         2    6.28  131.92 2019-01-17  12:36        2  125.64   \n",
       "778       25.25         5    6.31  132.56 2019-03-20  17:52        0  126.25   \n",
       "776       65.31         7   22.86  480.03 2019-03-05  18:02        1  457.17   \n",
       "683       21.48         2    2.15   45.11 2019-02-27  12:22        2   42.96   \n",
       "\n",
       "     gross margin percentage  gross income  Rating  \n",
       "162                     4.76         16.03     7.0  \n",
       "867                     4.76          6.28     4.9  \n",
       "778                     4.76          6.31     6.1  \n",
       "776                     4.76         22.86     4.2  \n",
       "683                     4.76          2.15     6.6  "
      ]
     },
     "execution_count": 33,
     "metadata": {},
     "output_type": "execute_result"
    }
   ],
   "source": [
    "df = df.sort_values('Invoice ID', ascending=True)\n",
    "df.head()"
   ]
  },
  {
   "cell_type": "markdown",
   "id": "4459fa2e",
   "metadata": {},
   "source": [
    "<b> To Do: <br>\n",
    "    2. Find the most frequent branch in the Supermarket Sales Dataframe <b>"
   ]
  },
  {
   "cell_type": "code",
   "execution_count": 34,
   "id": "0d9aec38",
   "metadata": {},
   "outputs": [
    {
     "data": {
      "text/plain": [
       "0"
      ]
     },
     "execution_count": 34,
     "metadata": {},
     "output_type": "execute_result"
    }
   ],
   "source": [
    "most_frequent_branch = df['Branch'].value_counts().idxmax()\n",
    "most_frequent_branch"
   ]
  },
  {
   "cell_type": "markdown",
   "id": "2cbf064e",
   "metadata": {},
   "source": [
    "<b> So, it is \"Branch A\" is the most frequent branch in our Supermarket Sales Dataframe currently! </b>"
   ]
  },
  {
   "cell_type": "markdown",
   "id": "922f3e94",
   "metadata": {},
   "source": [
    "<b> To Do: <br>\n",
    "    3. Find the most frequent city in the Supermarket Sales Dataframe <b>"
   ]
  },
  {
   "cell_type": "code",
   "execution_count": 35,
   "id": "b6c062fe",
   "metadata": {},
   "outputs": [
    {
     "data": {
      "text/plain": [
       "2"
      ]
     },
     "execution_count": 35,
     "metadata": {},
     "output_type": "execute_result"
    }
   ],
   "source": [
    "most_frequent_city = df['City'].value_counts().idxmax()\n",
    "most_frequent_city"
   ]
  },
  {
   "cell_type": "markdown",
   "id": "2b5d781c",
   "metadata": {},
   "source": [
    "<b> So, it is \"Yangon City\" is the most frequent city in our Supermarket Sales Dataframe currently! </b>"
   ]
  },
  {
   "cell_type": "markdown",
   "id": "0e5d6f61",
   "metadata": {},
   "source": [
    "<b> To Do: <br>\n",
    "    4. Find the most frequent customer type in the Supermarket Sales Dataframe <b>"
   ]
  },
  {
   "cell_type": "code",
   "execution_count": 36,
   "id": "6e9b00f4",
   "metadata": {},
   "outputs": [
    {
     "data": {
      "text/plain": [
       "1"
      ]
     },
     "execution_count": 36,
     "metadata": {},
     "output_type": "execute_result"
    }
   ],
   "source": [
    "most_frequent_cust = df['Customer type'].value_counts().idxmax()\n",
    "most_frequent_cust"
   ]
  },
  {
   "cell_type": "markdown",
   "id": "5fa7de8d",
   "metadata": {},
   "source": [
    "<b> So, it is \"Member\" is the most frequent customer type in our Supermarket Sales Dataframe currently! </b>"
   ]
  },
  {
   "cell_type": "markdown",
   "id": "7415cbeb",
   "metadata": {},
   "source": [
    "<b> To Do: <br>\n",
    "    5. Find the most frequent gender in the Supermarket Sales Dataframe <b>"
   ]
  },
  {
   "cell_type": "code",
   "execution_count": 37,
   "id": "09c0931a",
   "metadata": {},
   "outputs": [
    {
     "data": {
      "text/plain": [
       "1"
      ]
     },
     "execution_count": 37,
     "metadata": {},
     "output_type": "execute_result"
    }
   ],
   "source": [
    "most_frequent_gender = df['Gender'].value_counts().idxmax()\n",
    "most_frequent_gender"
   ]
  },
  {
   "cell_type": "markdown",
   "id": "46fa8c1c",
   "metadata": {},
   "source": [
    "<b> So, it is \"Female\" is the most frequent gender in our Supermarket Sales Dataframe currently! </b>"
   ]
  },
  {
   "cell_type": "markdown",
   "id": "9dc1fcf4",
   "metadata": {},
   "source": [
    "<b> To Do: <br>\n",
    "    6. Find the most frequent product line in the Supermarket Sales Dataframe <b>"
   ]
  },
  {
   "cell_type": "code",
   "execution_count": 38,
   "id": "51a3bb9b",
   "metadata": {},
   "outputs": [
    {
     "data": {
      "text/plain": [
       "1"
      ]
     },
     "execution_count": 38,
     "metadata": {},
     "output_type": "execute_result"
    }
   ],
   "source": [
    "most_frequent_prod = df['Product line'].value_counts().idxmax()\n",
    "most_frequent_prod"
   ]
  },
  {
   "cell_type": "markdown",
   "id": "1bdb975d",
   "metadata": {},
   "source": [
    "<b> So, it is \"Fashion accessories\" is the most frequent product line in our Supermarket Sales Dataframe currently! </b>"
   ]
  },
  {
   "cell_type": "markdown",
   "id": "1f3ef414",
   "metadata": {},
   "source": [
    "<b> To Do: <br>\n",
    "    7. Find the most frequent payment method in the Supermarket Sales Dataframe <b>"
   ]
  },
  {
   "cell_type": "code",
   "execution_count": 39,
   "id": "ae43e32f",
   "metadata": {},
   "outputs": [
    {
     "data": {
      "text/plain": [
       "2"
      ]
     },
     "execution_count": 39,
     "metadata": {},
     "output_type": "execute_result"
    }
   ],
   "source": [
    "most_frequent_payment = df['Payment'].value_counts().idxmax()\n",
    "most_frequent_payment"
   ]
  },
  {
   "cell_type": "markdown",
   "id": "cdc39508",
   "metadata": {},
   "source": [
    "<b> So, it is \"Ewallet\" is the most frequent payment method in our Supermarket Sales Dataframe currently! </b>"
   ]
  },
  {
   "cell_type": "markdown",
   "id": "bd0098d9",
   "metadata": {},
   "source": [
    "<b> To Do: <br>\n",
    "    8. Perform a descriptive statistics on a Supermarket Sales Dataframe </b>"
   ]
  },
  {
   "cell_type": "code",
   "execution_count": 40,
   "id": "45df16a9",
   "metadata": {},
   "outputs": [
    {
     "data": {
      "text/html": [
       "<div>\n",
       "<style scoped>\n",
       "    .dataframe tbody tr th:only-of-type {\n",
       "        vertical-align: middle;\n",
       "    }\n",
       "\n",
       "    .dataframe tbody tr th {\n",
       "        vertical-align: top;\n",
       "    }\n",
       "\n",
       "    .dataframe thead th {\n",
       "        text-align: right;\n",
       "    }\n",
       "</style>\n",
       "<table border=\"1\" class=\"dataframe\">\n",
       "  <thead>\n",
       "    <tr style=\"text-align: right;\">\n",
       "      <th></th>\n",
       "      <th>Invoice ID</th>\n",
       "      <th>Branch</th>\n",
       "      <th>City</th>\n",
       "      <th>Customer type</th>\n",
       "      <th>Gender</th>\n",
       "      <th>Product line</th>\n",
       "      <th>Unit price</th>\n",
       "      <th>Quantity</th>\n",
       "      <th>Tax 5%</th>\n",
       "      <th>Total</th>\n",
       "      <th>Date</th>\n",
       "      <th>Time</th>\n",
       "      <th>Payment</th>\n",
       "      <th>cogs</th>\n",
       "      <th>gross margin percentage</th>\n",
       "      <th>gross income</th>\n",
       "      <th>Rating</th>\n",
       "    </tr>\n",
       "  </thead>\n",
       "  <tbody>\n",
       "    <tr>\n",
       "      <th>count</th>\n",
       "      <td>1000</td>\n",
       "      <td>1000.000000</td>\n",
       "      <td>1000.000000</td>\n",
       "      <td>1000.000000</td>\n",
       "      <td>1000.000000</td>\n",
       "      <td>1000.000000</td>\n",
       "      <td>1000.000000</td>\n",
       "      <td>1000.000000</td>\n",
       "      <td>1000.000000</td>\n",
       "      <td>1000.000000</td>\n",
       "      <td>1000</td>\n",
       "      <td>1000</td>\n",
       "      <td>1000.000000</td>\n",
       "      <td>1000.00000</td>\n",
       "      <td>1.000000e+03</td>\n",
       "      <td>1000.000000</td>\n",
       "      <td>1000.00000</td>\n",
       "    </tr>\n",
       "    <tr>\n",
       "      <th>unique</th>\n",
       "      <td>1000</td>\n",
       "      <td>NaN</td>\n",
       "      <td>NaN</td>\n",
       "      <td>NaN</td>\n",
       "      <td>NaN</td>\n",
       "      <td>NaN</td>\n",
       "      <td>NaN</td>\n",
       "      <td>NaN</td>\n",
       "      <td>NaN</td>\n",
       "      <td>NaN</td>\n",
       "      <td>NaN</td>\n",
       "      <td>506</td>\n",
       "      <td>NaN</td>\n",
       "      <td>NaN</td>\n",
       "      <td>NaN</td>\n",
       "      <td>NaN</td>\n",
       "      <td>NaN</td>\n",
       "    </tr>\n",
       "    <tr>\n",
       "      <th>top</th>\n",
       "      <td>101-17-6199</td>\n",
       "      <td>NaN</td>\n",
       "      <td>NaN</td>\n",
       "      <td>NaN</td>\n",
       "      <td>NaN</td>\n",
       "      <td>NaN</td>\n",
       "      <td>NaN</td>\n",
       "      <td>NaN</td>\n",
       "      <td>NaN</td>\n",
       "      <td>NaN</td>\n",
       "      <td>NaN</td>\n",
       "      <td>19:48</td>\n",
       "      <td>NaN</td>\n",
       "      <td>NaN</td>\n",
       "      <td>NaN</td>\n",
       "      <td>NaN</td>\n",
       "      <td>NaN</td>\n",
       "    </tr>\n",
       "    <tr>\n",
       "      <th>freq</th>\n",
       "      <td>1</td>\n",
       "      <td>NaN</td>\n",
       "      <td>NaN</td>\n",
       "      <td>NaN</td>\n",
       "      <td>NaN</td>\n",
       "      <td>NaN</td>\n",
       "      <td>NaN</td>\n",
       "      <td>NaN</td>\n",
       "      <td>NaN</td>\n",
       "      <td>NaN</td>\n",
       "      <td>NaN</td>\n",
       "      <td>7</td>\n",
       "      <td>NaN</td>\n",
       "      <td>NaN</td>\n",
       "      <td>NaN</td>\n",
       "      <td>NaN</td>\n",
       "      <td>NaN</td>\n",
       "    </tr>\n",
       "    <tr>\n",
       "      <th>mean</th>\n",
       "      <td>NaN</td>\n",
       "      <td>0.988000</td>\n",
       "      <td>1.008000</td>\n",
       "      <td>0.501000</td>\n",
       "      <td>0.501000</td>\n",
       "      <td>2.452000</td>\n",
       "      <td>55.672130</td>\n",
       "      <td>5.510000</td>\n",
       "      <td>15.379510</td>\n",
       "      <td>322.966820</td>\n",
       "      <td>2019-02-14 00:05:45.600000</td>\n",
       "      <td>NaN</td>\n",
       "      <td>1.001000</td>\n",
       "      <td>307.58738</td>\n",
       "      <td>4.760000e+00</td>\n",
       "      <td>15.379510</td>\n",
       "      <td>6.97270</td>\n",
       "    </tr>\n",
       "    <tr>\n",
       "      <th>min</th>\n",
       "      <td>NaN</td>\n",
       "      <td>0.000000</td>\n",
       "      <td>0.000000</td>\n",
       "      <td>0.000000</td>\n",
       "      <td>0.000000</td>\n",
       "      <td>0.000000</td>\n",
       "      <td>10.080000</td>\n",
       "      <td>1.000000</td>\n",
       "      <td>0.510000</td>\n",
       "      <td>10.680000</td>\n",
       "      <td>2019-01-01 00:00:00</td>\n",
       "      <td>NaN</td>\n",
       "      <td>0.000000</td>\n",
       "      <td>10.17000</td>\n",
       "      <td>4.760000e+00</td>\n",
       "      <td>0.510000</td>\n",
       "      <td>4.00000</td>\n",
       "    </tr>\n",
       "    <tr>\n",
       "      <th>25%</th>\n",
       "      <td>NaN</td>\n",
       "      <td>0.000000</td>\n",
       "      <td>0.000000</td>\n",
       "      <td>0.000000</td>\n",
       "      <td>0.000000</td>\n",
       "      <td>1.000000</td>\n",
       "      <td>32.875000</td>\n",
       "      <td>3.000000</td>\n",
       "      <td>5.927500</td>\n",
       "      <td>124.425000</td>\n",
       "      <td>2019-01-24 00:00:00</td>\n",
       "      <td>NaN</td>\n",
       "      <td>0.000000</td>\n",
       "      <td>118.49750</td>\n",
       "      <td>4.760000e+00</td>\n",
       "      <td>5.927500</td>\n",
       "      <td>5.50000</td>\n",
       "    </tr>\n",
       "    <tr>\n",
       "      <th>50%</th>\n",
       "      <td>NaN</td>\n",
       "      <td>1.000000</td>\n",
       "      <td>1.000000</td>\n",
       "      <td>1.000000</td>\n",
       "      <td>1.000000</td>\n",
       "      <td>2.000000</td>\n",
       "      <td>55.230000</td>\n",
       "      <td>5.000000</td>\n",
       "      <td>12.090000</td>\n",
       "      <td>253.850000</td>\n",
       "      <td>2019-02-13 00:00:00</td>\n",
       "      <td>NaN</td>\n",
       "      <td>1.000000</td>\n",
       "      <td>241.76000</td>\n",
       "      <td>4.760000e+00</td>\n",
       "      <td>12.090000</td>\n",
       "      <td>7.00000</td>\n",
       "    </tr>\n",
       "    <tr>\n",
       "      <th>75%</th>\n",
       "      <td>NaN</td>\n",
       "      <td>2.000000</td>\n",
       "      <td>2.000000</td>\n",
       "      <td>1.000000</td>\n",
       "      <td>1.000000</td>\n",
       "      <td>4.000000</td>\n",
       "      <td>77.935000</td>\n",
       "      <td>8.000000</td>\n",
       "      <td>22.445000</td>\n",
       "      <td>471.350000</td>\n",
       "      <td>2019-03-08 00:00:00</td>\n",
       "      <td>NaN</td>\n",
       "      <td>2.000000</td>\n",
       "      <td>448.90500</td>\n",
       "      <td>4.760000e+00</td>\n",
       "      <td>22.445000</td>\n",
       "      <td>8.50000</td>\n",
       "    </tr>\n",
       "    <tr>\n",
       "      <th>max</th>\n",
       "      <td>NaN</td>\n",
       "      <td>2.000000</td>\n",
       "      <td>2.000000</td>\n",
       "      <td>1.000000</td>\n",
       "      <td>1.000000</td>\n",
       "      <td>5.000000</td>\n",
       "      <td>99.960000</td>\n",
       "      <td>10.000000</td>\n",
       "      <td>49.650000</td>\n",
       "      <td>1042.650000</td>\n",
       "      <td>2019-03-30 00:00:00</td>\n",
       "      <td>NaN</td>\n",
       "      <td>2.000000</td>\n",
       "      <td>993.00000</td>\n",
       "      <td>4.760000e+00</td>\n",
       "      <td>49.650000</td>\n",
       "      <td>10.00000</td>\n",
       "    </tr>\n",
       "    <tr>\n",
       "      <th>std</th>\n",
       "      <td>NaN</td>\n",
       "      <td>0.817633</td>\n",
       "      <td>0.820127</td>\n",
       "      <td>0.500249</td>\n",
       "      <td>0.500249</td>\n",
       "      <td>1.715412</td>\n",
       "      <td>26.494628</td>\n",
       "      <td>2.923431</td>\n",
       "      <td>11.708842</td>\n",
       "      <td>245.885398</td>\n",
       "      <td>NaN</td>\n",
       "      <td>NaN</td>\n",
       "      <td>0.830475</td>\n",
       "      <td>234.17651</td>\n",
       "      <td>1.208527e-13</td>\n",
       "      <td>11.708842</td>\n",
       "      <td>1.71858</td>\n",
       "    </tr>\n",
       "  </tbody>\n",
       "</table>\n",
       "</div>"
      ],
      "text/plain": [
       "         Invoice ID       Branch         City  Customer type       Gender  \\\n",
       "count          1000  1000.000000  1000.000000    1000.000000  1000.000000   \n",
       "unique         1000          NaN          NaN            NaN          NaN   \n",
       "top     101-17-6199          NaN          NaN            NaN          NaN   \n",
       "freq              1          NaN          NaN            NaN          NaN   \n",
       "mean            NaN     0.988000     1.008000       0.501000     0.501000   \n",
       "min             NaN     0.000000     0.000000       0.000000     0.000000   \n",
       "25%             NaN     0.000000     0.000000       0.000000     0.000000   \n",
       "50%             NaN     1.000000     1.000000       1.000000     1.000000   \n",
       "75%             NaN     2.000000     2.000000       1.000000     1.000000   \n",
       "max             NaN     2.000000     2.000000       1.000000     1.000000   \n",
       "std             NaN     0.817633     0.820127       0.500249     0.500249   \n",
       "\n",
       "        Product line   Unit price     Quantity       Tax 5%        Total  \\\n",
       "count    1000.000000  1000.000000  1000.000000  1000.000000  1000.000000   \n",
       "unique           NaN          NaN          NaN          NaN          NaN   \n",
       "top              NaN          NaN          NaN          NaN          NaN   \n",
       "freq             NaN          NaN          NaN          NaN          NaN   \n",
       "mean        2.452000    55.672130     5.510000    15.379510   322.966820   \n",
       "min         0.000000    10.080000     1.000000     0.510000    10.680000   \n",
       "25%         1.000000    32.875000     3.000000     5.927500   124.425000   \n",
       "50%         2.000000    55.230000     5.000000    12.090000   253.850000   \n",
       "75%         4.000000    77.935000     8.000000    22.445000   471.350000   \n",
       "max         5.000000    99.960000    10.000000    49.650000  1042.650000   \n",
       "std         1.715412    26.494628     2.923431    11.708842   245.885398   \n",
       "\n",
       "                              Date   Time      Payment        cogs  \\\n",
       "count                         1000   1000  1000.000000  1000.00000   \n",
       "unique                         NaN    506          NaN         NaN   \n",
       "top                            NaN  19:48          NaN         NaN   \n",
       "freq                           NaN      7          NaN         NaN   \n",
       "mean    2019-02-14 00:05:45.600000    NaN     1.001000   307.58738   \n",
       "min            2019-01-01 00:00:00    NaN     0.000000    10.17000   \n",
       "25%            2019-01-24 00:00:00    NaN     0.000000   118.49750   \n",
       "50%            2019-02-13 00:00:00    NaN     1.000000   241.76000   \n",
       "75%            2019-03-08 00:00:00    NaN     2.000000   448.90500   \n",
       "max            2019-03-30 00:00:00    NaN     2.000000   993.00000   \n",
       "std                            NaN    NaN     0.830475   234.17651   \n",
       "\n",
       "        gross margin percentage  gross income      Rating  \n",
       "count              1.000000e+03   1000.000000  1000.00000  \n",
       "unique                      NaN           NaN         NaN  \n",
       "top                         NaN           NaN         NaN  \n",
       "freq                        NaN           NaN         NaN  \n",
       "mean               4.760000e+00     15.379510     6.97270  \n",
       "min                4.760000e+00      0.510000     4.00000  \n",
       "25%                4.760000e+00      5.927500     5.50000  \n",
       "50%                4.760000e+00     12.090000     7.00000  \n",
       "75%                4.760000e+00     22.445000     8.50000  \n",
       "max                4.760000e+00     49.650000    10.00000  \n",
       "std                1.208527e-13     11.708842     1.71858  "
      ]
     },
     "execution_count": 40,
     "metadata": {},
     "output_type": "execute_result"
    }
   ],
   "source": [
    "df.describe(include='all', datetime_is_numeric=True)"
   ]
  },
  {
   "cell_type": "code",
   "execution_count": 41,
   "id": "8ae2bcda",
   "metadata": {},
   "outputs": [
    {
     "data": {
      "text/html": [
       "<div>\n",
       "<style scoped>\n",
       "    .dataframe tbody tr th:only-of-type {\n",
       "        vertical-align: middle;\n",
       "    }\n",
       "\n",
       "    .dataframe tbody tr th {\n",
       "        vertical-align: top;\n",
       "    }\n",
       "\n",
       "    .dataframe thead th {\n",
       "        text-align: right;\n",
       "    }\n",
       "</style>\n",
       "<table border=\"1\" class=\"dataframe\">\n",
       "  <thead>\n",
       "    <tr style=\"text-align: right;\">\n",
       "      <th></th>\n",
       "      <th>Invoice ID</th>\n",
       "      <th>Branch</th>\n",
       "      <th>City</th>\n",
       "      <th>Customer type</th>\n",
       "      <th>Gender</th>\n",
       "      <th>Product line</th>\n",
       "      <th>Unit price</th>\n",
       "      <th>Quantity</th>\n",
       "      <th>Tax 5%</th>\n",
       "      <th>Total</th>\n",
       "      <th>Date</th>\n",
       "      <th>Time</th>\n",
       "      <th>Payment</th>\n",
       "      <th>cogs</th>\n",
       "      <th>gross margin percentage</th>\n",
       "      <th>gross income</th>\n",
       "      <th>Rating</th>\n",
       "    </tr>\n",
       "  </thead>\n",
       "  <tbody>\n",
       "    <tr>\n",
       "      <th>162</th>\n",
       "      <td>101-17-6199</td>\n",
       "      <td>0</td>\n",
       "      <td>2</td>\n",
       "      <td>0</td>\n",
       "      <td>0</td>\n",
       "      <td>2</td>\n",
       "      <td>45.79</td>\n",
       "      <td>7</td>\n",
       "      <td>16.03</td>\n",
       "      <td>336.56</td>\n",
       "      <td>2019-03-13</td>\n",
       "      <td>19:44</td>\n",
       "      <td>1</td>\n",
       "      <td>320.53</td>\n",
       "      <td>4.76</td>\n",
       "      <td>16.03</td>\n",
       "      <td>7.0</td>\n",
       "    </tr>\n",
       "    <tr>\n",
       "      <th>867</th>\n",
       "      <td>101-81-4070</td>\n",
       "      <td>2</td>\n",
       "      <td>1</td>\n",
       "      <td>1</td>\n",
       "      <td>1</td>\n",
       "      <td>3</td>\n",
       "      <td>62.82</td>\n",
       "      <td>2</td>\n",
       "      <td>6.28</td>\n",
       "      <td>131.92</td>\n",
       "      <td>2019-01-17</td>\n",
       "      <td>12:36</td>\n",
       "      <td>2</td>\n",
       "      <td>125.64</td>\n",
       "      <td>4.76</td>\n",
       "      <td>6.28</td>\n",
       "      <td>4.9</td>\n",
       "    </tr>\n",
       "    <tr>\n",
       "      <th>778</th>\n",
       "      <td>102-06-2002</td>\n",
       "      <td>2</td>\n",
       "      <td>1</td>\n",
       "      <td>1</td>\n",
       "      <td>0</td>\n",
       "      <td>5</td>\n",
       "      <td>25.25</td>\n",
       "      <td>5</td>\n",
       "      <td>6.31</td>\n",
       "      <td>132.56</td>\n",
       "      <td>2019-03-20</td>\n",
       "      <td>17:52</td>\n",
       "      <td>0</td>\n",
       "      <td>126.25</td>\n",
       "      <td>4.76</td>\n",
       "      <td>6.31</td>\n",
       "      <td>6.1</td>\n",
       "    </tr>\n",
       "    <tr>\n",
       "      <th>776</th>\n",
       "      <td>102-77-2261</td>\n",
       "      <td>2</td>\n",
       "      <td>1</td>\n",
       "      <td>1</td>\n",
       "      <td>0</td>\n",
       "      <td>3</td>\n",
       "      <td>65.31</td>\n",
       "      <td>7</td>\n",
       "      <td>22.86</td>\n",
       "      <td>480.03</td>\n",
       "      <td>2019-03-05</td>\n",
       "      <td>18:02</td>\n",
       "      <td>1</td>\n",
       "      <td>457.17</td>\n",
       "      <td>4.76</td>\n",
       "      <td>22.86</td>\n",
       "      <td>4.2</td>\n",
       "    </tr>\n",
       "    <tr>\n",
       "      <th>683</th>\n",
       "      <td>105-10-6182</td>\n",
       "      <td>0</td>\n",
       "      <td>2</td>\n",
       "      <td>1</td>\n",
       "      <td>0</td>\n",
       "      <td>1</td>\n",
       "      <td>21.48</td>\n",
       "      <td>2</td>\n",
       "      <td>2.15</td>\n",
       "      <td>45.11</td>\n",
       "      <td>2019-02-27</td>\n",
       "      <td>12:22</td>\n",
       "      <td>2</td>\n",
       "      <td>42.96</td>\n",
       "      <td>4.76</td>\n",
       "      <td>2.15</td>\n",
       "      <td>6.6</td>\n",
       "    </tr>\n",
       "  </tbody>\n",
       "</table>\n",
       "</div>"
      ],
      "text/plain": [
       "      Invoice ID  Branch  City  Customer type  Gender  Product line  \\\n",
       "162  101-17-6199       0     2              0       0             2   \n",
       "867  101-81-4070       2     1              1       1             3   \n",
       "778  102-06-2002       2     1              1       0             5   \n",
       "776  102-77-2261       2     1              1       0             3   \n",
       "683  105-10-6182       0     2              1       0             1   \n",
       "\n",
       "     Unit price  Quantity  Tax 5%   Total       Date   Time  Payment    cogs  \\\n",
       "162       45.79         7   16.03  336.56 2019-03-13  19:44        1  320.53   \n",
       "867       62.82         2    6.28  131.92 2019-01-17  12:36        2  125.64   \n",
       "778       25.25         5    6.31  132.56 2019-03-20  17:52        0  126.25   \n",
       "776       65.31         7   22.86  480.03 2019-03-05  18:02        1  457.17   \n",
       "683       21.48         2    2.15   45.11 2019-02-27  12:22        2   42.96   \n",
       "\n",
       "     gross margin percentage  gross income  Rating  \n",
       "162                     4.76         16.03     7.0  \n",
       "867                     4.76          6.28     4.9  \n",
       "778                     4.76          6.31     6.1  \n",
       "776                     4.76         22.86     4.2  \n",
       "683                     4.76          2.15     6.6  "
      ]
     },
     "execution_count": 41,
     "metadata": {},
     "output_type": "execute_result"
    }
   ],
   "source": [
    "df.head()"
   ]
  },
  {
   "cell_type": "markdown",
   "id": "8ea98efb",
   "metadata": {},
   "source": [
    "<b> Gross Margin Analysis </b>"
   ]
  },
  {
   "cell_type": "code",
   "execution_count": 42,
   "id": "10469c11",
   "metadata": {},
   "outputs": [
    {
     "data": {
      "text/plain": [
       "Branch\n",
       "0    4.76\n",
       "1    4.76\n",
       "2    4.76\n",
       "Name: gross margin percentage, dtype: float64"
      ]
     },
     "execution_count": 42,
     "metadata": {},
     "output_type": "execute_result"
    }
   ],
   "source": [
    "# Calculate the avg gross margin percentage for each branch\n",
    "avg_gmp = df.groupby('Branch')['gross margin percentage'].mean()\n",
    "avg_gmp"
   ]
  },
  {
   "cell_type": "code",
   "execution_count": 43,
   "id": "ba7b3686",
   "metadata": {},
   "outputs": [
    {
     "data": {
      "image/png": "[encoded data removed]",
      "text/plain": [
       "<Figure size 640x480 with 1 Axes>"
      ]
     },
     "metadata": {},
     "output_type": "display_data"
    }
   ],
   "source": [
    "# Create a bar chart\n",
    "import matplotlib.pyplot as plt\n",
    "avg_gmp.plot(kind = 'bar', color = 'red')\n",
    "plt.xticks(rotation = 0)\n",
    "plt.xlabel('Branch')\n",
    "plt.ylabel('Average Gross Margin Percentage')\n",
    "plt.title('Average Gross Margin Percentage by Branch')\n",
    "\n",
    "plt.show()"
   ]
  },
  {
   "cell_type": "markdown",
   "id": "86c8efc4",
   "metadata": {},
   "source": [
    "<b> Analyze the revenue trends over time by visualizing the Total rvenue over time using line chart or area chart. </b>"
   ]
  },
  {
   "cell_type": "code",
   "execution_count": 44,
   "id": "a869d4a7",
   "metadata": {},
   "outputs": [
    {
     "data": {
      "text/html": [
       "<div>\n",
       "<style scoped>\n",
       "    .dataframe tbody tr th:only-of-type {\n",
       "        vertical-align: middle;\n",
       "    }\n",
       "\n",
       "    .dataframe tbody tr th {\n",
       "        vertical-align: top;\n",
       "    }\n",
       "\n",
       "    .dataframe thead th {\n",
       "        text-align: right;\n",
       "    }\n",
       "</style>\n",
       "<table border=\"1\" class=\"dataframe\">\n",
       "  <thead>\n",
       "    <tr style=\"text-align: right;\">\n",
       "      <th></th>\n",
       "      <th>cogs</th>\n",
       "      <th>gross income</th>\n",
       "    </tr>\n",
       "    <tr>\n",
       "      <th>Date</th>\n",
       "      <th></th>\n",
       "      <th></th>\n",
       "    </tr>\n",
       "  </thead>\n",
       "  <tbody>\n",
       "    <tr>\n",
       "      <th>2019-01-01</th>\n",
       "      <td>4519.22</td>\n",
       "      <td>225.97</td>\n",
       "    </tr>\n",
       "    <tr>\n",
       "      <th>2019-01-02</th>\n",
       "      <td>1852.86</td>\n",
       "      <td>92.63</td>\n",
       "    </tr>\n",
       "    <tr>\n",
       "      <th>2019-01-03</th>\n",
       "      <td>1979.17</td>\n",
       "      <td>98.94</td>\n",
       "    </tr>\n",
       "    <tr>\n",
       "      <th>2019-01-04</th>\n",
       "      <td>1546.37</td>\n",
       "      <td>77.31</td>\n",
       "    </tr>\n",
       "    <tr>\n",
       "      <th>2019-01-05</th>\n",
       "      <td>3368.27</td>\n",
       "      <td>168.42</td>\n",
       "    </tr>\n",
       "    <tr>\n",
       "      <th>...</th>\n",
       "      <td>...</td>\n",
       "      <td>...</td>\n",
       "    </tr>\n",
       "    <tr>\n",
       "      <th>2019-03-26</th>\n",
       "      <td>1869.06</td>\n",
       "      <td>93.46</td>\n",
       "    </tr>\n",
       "    <tr>\n",
       "      <th>2019-03-27</th>\n",
       "      <td>2764.59</td>\n",
       "      <td>138.22</td>\n",
       "    </tr>\n",
       "    <tr>\n",
       "      <th>2019-03-28</th>\n",
       "      <td>2123.24</td>\n",
       "      <td>106.18</td>\n",
       "    </tr>\n",
       "    <tr>\n",
       "      <th>2019-03-29</th>\n",
       "      <td>3831.66</td>\n",
       "      <td>191.59</td>\n",
       "    </tr>\n",
       "    <tr>\n",
       "      <th>2019-03-30</th>\n",
       "      <td>4273.39</td>\n",
       "      <td>213.67</td>\n",
       "    </tr>\n",
       "  </tbody>\n",
       "</table>\n",
       "<p>89 rows × 2 columns</p>\n",
       "</div>"
      ],
      "text/plain": [
       "               cogs  gross income\n",
       "Date                             \n",
       "2019-01-01  4519.22        225.97\n",
       "2019-01-02  1852.86         92.63\n",
       "2019-01-03  1979.17         98.94\n",
       "2019-01-04  1546.37         77.31\n",
       "2019-01-05  3368.27        168.42\n",
       "...             ...           ...\n",
       "2019-03-26  1869.06         93.46\n",
       "2019-03-27  2764.59        138.22\n",
       "2019-03-28  2123.24        106.18\n",
       "2019-03-29  3831.66        191.59\n",
       "2019-03-30  4273.39        213.67\n",
       "\n",
       "[89 rows x 2 columns]"
      ]
     },
     "execution_count": 44,
     "metadata": {},
     "output_type": "execute_result"
    }
   ],
   "source": [
    "# Calculate the total revenue for each date\n",
    "total_revenue = df.groupby('Date')[['cogs', 'gross income']].sum()\n",
    "total_revenue"
   ]
  },
  {
   "cell_type": "code",
   "execution_count": 45,
   "id": "43750b85",
   "metadata": {},
   "outputs": [
    {
     "data": {
      "text/html": [
       "<div>\n",
       "<style scoped>\n",
       "    .dataframe tbody tr th:only-of-type {\n",
       "        vertical-align: middle;\n",
       "    }\n",
       "\n",
       "    .dataframe tbody tr th {\n",
       "        vertical-align: top;\n",
       "    }\n",
       "\n",
       "    .dataframe thead th {\n",
       "        text-align: right;\n",
       "    }\n",
       "</style>\n",
       "<table border=\"1\" class=\"dataframe\">\n",
       "  <thead>\n",
       "    <tr style=\"text-align: right;\">\n",
       "      <th></th>\n",
       "      <th>cogs</th>\n",
       "      <th>gross income</th>\n",
       "      <th>total revenue</th>\n",
       "    </tr>\n",
       "    <tr>\n",
       "      <th>Date</th>\n",
       "      <th></th>\n",
       "      <th></th>\n",
       "      <th></th>\n",
       "    </tr>\n",
       "  </thead>\n",
       "  <tbody>\n",
       "    <tr>\n",
       "      <th>2019-01-01</th>\n",
       "      <td>4519.22</td>\n",
       "      <td>225.97</td>\n",
       "      <td>4745.19</td>\n",
       "    </tr>\n",
       "    <tr>\n",
       "      <th>2019-01-02</th>\n",
       "      <td>1852.86</td>\n",
       "      <td>92.63</td>\n",
       "      <td>1945.49</td>\n",
       "    </tr>\n",
       "    <tr>\n",
       "      <th>2019-01-03</th>\n",
       "      <td>1979.17</td>\n",
       "      <td>98.94</td>\n",
       "      <td>2078.11</td>\n",
       "    </tr>\n",
       "    <tr>\n",
       "      <th>2019-01-04</th>\n",
       "      <td>1546.37</td>\n",
       "      <td>77.31</td>\n",
       "      <td>1623.68</td>\n",
       "    </tr>\n",
       "    <tr>\n",
       "      <th>2019-01-05</th>\n",
       "      <td>3368.27</td>\n",
       "      <td>168.42</td>\n",
       "      <td>3536.69</td>\n",
       "    </tr>\n",
       "    <tr>\n",
       "      <th>...</th>\n",
       "      <td>...</td>\n",
       "      <td>...</td>\n",
       "      <td>...</td>\n",
       "    </tr>\n",
       "    <tr>\n",
       "      <th>2019-03-26</th>\n",
       "      <td>1869.06</td>\n",
       "      <td>93.46</td>\n",
       "      <td>1962.52</td>\n",
       "    </tr>\n",
       "    <tr>\n",
       "      <th>2019-03-27</th>\n",
       "      <td>2764.59</td>\n",
       "      <td>138.22</td>\n",
       "      <td>2902.81</td>\n",
       "    </tr>\n",
       "    <tr>\n",
       "      <th>2019-03-28</th>\n",
       "      <td>2123.24</td>\n",
       "      <td>106.18</td>\n",
       "      <td>2229.42</td>\n",
       "    </tr>\n",
       "    <tr>\n",
       "      <th>2019-03-29</th>\n",
       "      <td>3831.66</td>\n",
       "      <td>191.59</td>\n",
       "      <td>4023.25</td>\n",
       "    </tr>\n",
       "    <tr>\n",
       "      <th>2019-03-30</th>\n",
       "      <td>4273.39</td>\n",
       "      <td>213.67</td>\n",
       "      <td>4487.06</td>\n",
       "    </tr>\n",
       "  </tbody>\n",
       "</table>\n",
       "<p>89 rows × 3 columns</p>\n",
       "</div>"
      ],
      "text/plain": [
       "               cogs  gross income  total revenue\n",
       "Date                                            \n",
       "2019-01-01  4519.22        225.97        4745.19\n",
       "2019-01-02  1852.86         92.63        1945.49\n",
       "2019-01-03  1979.17         98.94        2078.11\n",
       "2019-01-04  1546.37         77.31        1623.68\n",
       "2019-01-05  3368.27        168.42        3536.69\n",
       "...             ...           ...            ...\n",
       "2019-03-26  1869.06         93.46        1962.52\n",
       "2019-03-27  2764.59        138.22        2902.81\n",
       "2019-03-28  2123.24        106.18        2229.42\n",
       "2019-03-29  3831.66        191.59        4023.25\n",
       "2019-03-30  4273.39        213.67        4487.06\n",
       "\n",
       "[89 rows x 3 columns]"
      ]
     },
     "execution_count": 45,
     "metadata": {},
     "output_type": "execute_result"
    }
   ],
   "source": [
    "total_revenue['total revenue'] = total_revenue['cogs'] + total_revenue['gross income']\n",
    "total_revenue"
   ]
  },
  {
   "cell_type": "code",
   "execution_count": 46,
   "id": "cef2e454",
   "metadata": {},
   "outputs": [
    {
     "data": {
      "text/plain": [
       "Text(0, 0.5, 'Total Revenue')"
      ]
     },
     "execution_count": 46,
     "metadata": {},
     "output_type": "execute_result"
    },
    {
     "data": {
      "image/png": "[encoded data removed]",
      "text/plain": [
       "<Figure size 640x480 with 1 Axes>"
      ]
     },
     "metadata": {},
     "output_type": "display_data"
    }
   ],
   "source": [
    "plt.plot(total_revenue.index, total_revenue['total revenue'])\n",
    "plt.title('Total Revenue Over Time')\n",
    "plt.xticks(rotation = 90)\n",
    "plt.xlabel('Date')\n",
    "plt.ylabel('Total Revenue')"
   ]
  },
  {
   "cell_type": "code",
   "execution_count": 47,
   "id": "2180ace9",
   "metadata": {},
   "outputs": [
    {
     "data": {
      "text/html": [
       "<div>\n",
       "<style scoped>\n",
       "    .dataframe tbody tr th:only-of-type {\n",
       "        vertical-align: middle;\n",
       "    }\n",
       "\n",
       "    .dataframe tbody tr th {\n",
       "        vertical-align: top;\n",
       "    }\n",
       "\n",
       "    .dataframe thead th {\n",
       "        text-align: right;\n",
       "    }\n",
       "</style>\n",
       "<table border=\"1\" class=\"dataframe\">\n",
       "  <thead>\n",
       "    <tr style=\"text-align: right;\">\n",
       "      <th></th>\n",
       "      <th>Invoice ID</th>\n",
       "      <th>Branch</th>\n",
       "      <th>City</th>\n",
       "      <th>Customer type</th>\n",
       "      <th>Gender</th>\n",
       "      <th>Product line</th>\n",
       "      <th>Unit price</th>\n",
       "      <th>Quantity</th>\n",
       "      <th>Tax 5%</th>\n",
       "      <th>Total</th>\n",
       "      <th>Date</th>\n",
       "      <th>Time</th>\n",
       "      <th>Payment</th>\n",
       "      <th>cogs</th>\n",
       "      <th>gross margin percentage</th>\n",
       "      <th>gross income</th>\n",
       "      <th>Rating</th>\n",
       "    </tr>\n",
       "  </thead>\n",
       "  <tbody>\n",
       "    <tr>\n",
       "      <th>162</th>\n",
       "      <td>101-17-6199</td>\n",
       "      <td>0</td>\n",
       "      <td>2</td>\n",
       "      <td>0</td>\n",
       "      <td>0</td>\n",
       "      <td>2</td>\n",
       "      <td>45.79</td>\n",
       "      <td>7</td>\n",
       "      <td>16.03</td>\n",
       "      <td>336.56</td>\n",
       "      <td>2019-03-13</td>\n",
       "      <td>19:44</td>\n",
       "      <td>1</td>\n",
       "      <td>320.53</td>\n",
       "      <td>4.76</td>\n",
       "      <td>16.03</td>\n",
       "      <td>7.0</td>\n",
       "    </tr>\n",
       "    <tr>\n",
       "      <th>867</th>\n",
       "      <td>101-81-4070</td>\n",
       "      <td>2</td>\n",
       "      <td>1</td>\n",
       "      <td>1</td>\n",
       "      <td>1</td>\n",
       "      <td>3</td>\n",
       "      <td>62.82</td>\n",
       "      <td>2</td>\n",
       "      <td>6.28</td>\n",
       "      <td>131.92</td>\n",
       "      <td>2019-01-17</td>\n",
       "      <td>12:36</td>\n",
       "      <td>2</td>\n",
       "      <td>125.64</td>\n",
       "      <td>4.76</td>\n",
       "      <td>6.28</td>\n",
       "      <td>4.9</td>\n",
       "    </tr>\n",
       "    <tr>\n",
       "      <th>778</th>\n",
       "      <td>102-06-2002</td>\n",
       "      <td>2</td>\n",
       "      <td>1</td>\n",
       "      <td>1</td>\n",
       "      <td>0</td>\n",
       "      <td>5</td>\n",
       "      <td>25.25</td>\n",
       "      <td>5</td>\n",
       "      <td>6.31</td>\n",
       "      <td>132.56</td>\n",
       "      <td>2019-03-20</td>\n",
       "      <td>17:52</td>\n",
       "      <td>0</td>\n",
       "      <td>126.25</td>\n",
       "      <td>4.76</td>\n",
       "      <td>6.31</td>\n",
       "      <td>6.1</td>\n",
       "    </tr>\n",
       "    <tr>\n",
       "      <th>776</th>\n",
       "      <td>102-77-2261</td>\n",
       "      <td>2</td>\n",
       "      <td>1</td>\n",
       "      <td>1</td>\n",
       "      <td>0</td>\n",
       "      <td>3</td>\n",
       "      <td>65.31</td>\n",
       "      <td>7</td>\n",
       "      <td>22.86</td>\n",
       "      <td>480.03</td>\n",
       "      <td>2019-03-05</td>\n",
       "      <td>18:02</td>\n",
       "      <td>1</td>\n",
       "      <td>457.17</td>\n",
       "      <td>4.76</td>\n",
       "      <td>22.86</td>\n",
       "      <td>4.2</td>\n",
       "    </tr>\n",
       "    <tr>\n",
       "      <th>683</th>\n",
       "      <td>105-10-6182</td>\n",
       "      <td>0</td>\n",
       "      <td>2</td>\n",
       "      <td>1</td>\n",
       "      <td>0</td>\n",
       "      <td>1</td>\n",
       "      <td>21.48</td>\n",
       "      <td>2</td>\n",
       "      <td>2.15</td>\n",
       "      <td>45.11</td>\n",
       "      <td>2019-02-27</td>\n",
       "      <td>12:22</td>\n",
       "      <td>2</td>\n",
       "      <td>42.96</td>\n",
       "      <td>4.76</td>\n",
       "      <td>2.15</td>\n",
       "      <td>6.6</td>\n",
       "    </tr>\n",
       "  </tbody>\n",
       "</table>\n",
       "</div>"
      ],
      "text/plain": [
       "      Invoice ID  Branch  City  Customer type  Gender  Product line  \\\n",
       "162  101-17-6199       0     2              0       0             2   \n",
       "867  101-81-4070       2     1              1       1             3   \n",
       "778  102-06-2002       2     1              1       0             5   \n",
       "776  102-77-2261       2     1              1       0             3   \n",
       "683  105-10-6182       0     2              1       0             1   \n",
       "\n",
       "     Unit price  Quantity  Tax 5%   Total       Date   Time  Payment    cogs  \\\n",
       "162       45.79         7   16.03  336.56 2019-03-13  19:44        1  320.53   \n",
       "867       62.82         2    6.28  131.92 2019-01-17  12:36        2  125.64   \n",
       "778       25.25         5    6.31  132.56 2019-03-20  17:52        0  126.25   \n",
       "776       65.31         7   22.86  480.03 2019-03-05  18:02        1  457.17   \n",
       "683       21.48         2    2.15   45.11 2019-02-27  12:22        2   42.96   \n",
       "\n",
       "     gross margin percentage  gross income  Rating  \n",
       "162                     4.76         16.03     7.0  \n",
       "867                     4.76          6.28     4.9  \n",
       "778                     4.76          6.31     6.1  \n",
       "776                     4.76         22.86     4.2  \n",
       "683                     4.76          2.15     6.6  "
      ]
     },
     "execution_count": 47,
     "metadata": {},
     "output_type": "execute_result"
    }
   ],
   "source": [
    "df.head()"
   ]
  },
  {
   "cell_type": "code",
   "execution_count": 48,
   "id": "58068836",
   "metadata": {},
   "outputs": [
    {
     "data": {
      "text/plain": [
       "<AxesSubplot:xlabel='Gender', ylabel='Customer type'>"
      ]
     },
     "execution_count": 48,
     "metadata": {},
     "output_type": "execute_result"
    },
    {
     "data": {
      "image/png": "[encoded data removed]",
      "text/plain": [
       "<Figure size 640x480 with 2 Axes>"
      ]
     },
     "metadata": {},
     "output_type": "display_data"
    }
   ],
   "source": [
    "# Create a heatmap\n",
    "import seaborn as sns\n",
    "sales_by_cust_gender = df.pivot_table(index = 'Customer type', columns = 'Gender', values ='Total', aggfunc = 'sum')\n",
    "\n",
    "sns.heatmap(sales_by_cust_gender, annot=True, cmap='YlGnBu')"
   ]
  },
  {
   "cell_type": "markdown",
   "id": "7152fa63",
   "metadata": {},
   "source": [
    "<b> Conclusions: <br>\n",
    "    \"The most frequent customer type with the largest total sales is \"Member\". <br> The most frequent gender with the largest total sales is \"Female\". <br> Among \"Normal\" customer types, \"Female\" has the largest total sales. <br> Similarly, among \"Member\" customer types, \"Female\" also has the largest total sales.\" </b> "
   ]
  },
  {
   "cell_type": "markdown",
   "id": "1ca35388",
   "metadata": {},
   "source": [
    "<b> Analyze the total sales by product line </b>"
   ]
  },
  {
   "cell_type": "code",
   "execution_count": 49,
   "id": "f505ee5c",
   "metadata": {},
   "outputs": [
    {
     "data": {
      "text/html": [
       "<div>\n",
       "<style scoped>\n",
       "    .dataframe tbody tr th:only-of-type {\n",
       "        vertical-align: middle;\n",
       "    }\n",
       "\n",
       "    .dataframe tbody tr th {\n",
       "        vertical-align: top;\n",
       "    }\n",
       "\n",
       "    .dataframe thead th {\n",
       "        text-align: right;\n",
       "    }\n",
       "</style>\n",
       "<table border=\"1\" class=\"dataframe\">\n",
       "  <thead>\n",
       "    <tr style=\"text-align: right;\">\n",
       "      <th></th>\n",
       "      <th>Product line</th>\n",
       "      <th>Total</th>\n",
       "    </tr>\n",
       "  </thead>\n",
       "  <tbody>\n",
       "    <tr>\n",
       "      <th>0</th>\n",
       "      <td>0</td>\n",
       "      <td>54337.52</td>\n",
       "    </tr>\n",
       "    <tr>\n",
       "      <th>1</th>\n",
       "      <td>1</td>\n",
       "      <td>54305.88</td>\n",
       "    </tr>\n",
       "    <tr>\n",
       "      <th>2</th>\n",
       "      <td>2</td>\n",
       "      <td>56144.86</td>\n",
       "    </tr>\n",
       "    <tr>\n",
       "      <th>3</th>\n",
       "      <td>3</td>\n",
       "      <td>49193.81</td>\n",
       "    </tr>\n",
       "    <tr>\n",
       "      <th>4</th>\n",
       "      <td>4</td>\n",
       "      <td>53861.87</td>\n",
       "    </tr>\n",
       "    <tr>\n",
       "      <th>5</th>\n",
       "      <td>5</td>\n",
       "      <td>55122.88</td>\n",
       "    </tr>\n",
       "  </tbody>\n",
       "</table>\n",
       "</div>"
      ],
      "text/plain": [
       "   Product line     Total\n",
       "0             0  54337.52\n",
       "1             1  54305.88\n",
       "2             2  56144.86\n",
       "3             3  49193.81\n",
       "4             4  53861.87\n",
       "5             5  55122.88"
      ]
     },
     "execution_count": 49,
     "metadata": {},
     "output_type": "execute_result"
    }
   ],
   "source": [
    "# Calculate the total sales for each product line\n",
    "total_sales_prod = df.groupby('Product line')['Total'].sum().reset_index()\n",
    "total_sales_prod"
   ]
  },
  {
   "cell_type": "code",
   "execution_count": 50,
   "id": "48f0de64",
   "metadata": {},
   "outputs": [
    {
     "data": {
      "text/plain": [
       "<Figure size 1000x600 with 0 Axes>"
      ]
     },
     "metadata": {},
     "output_type": "display_data"
    },
    {
     "data": {
      "image/png": "[encoded data removed]",
      "text/plain": [
       "<Figure size 640x480 with 1 Axes>"
      ]
     },
     "metadata": {},
     "output_type": "display_data"
    }
   ],
   "source": [
    "# Create a bar chart\n",
    "fig = plt.figure(figsize=(10,6))\n",
    "total_sales_prod.plot(kind = 'bar', color = 'red')\n",
    "plt.xticks(rotation = 0)\n",
    "plt.xlabel('Product Line')\n",
    "plt.ylabel('Total Sales')\n",
    "plt.title('Total Sales by Product Line')\n",
    "plt.legend(loc = 'best')\n",
    "plt.tight_layout()\n",
    "plt.show()"
   ]
  },
  {
   "cell_type": "markdown",
   "id": "1454b090",
   "metadata": {},
   "source": [
    "<b> Conclusions: <br> Based on the analysis of the sales data, it can be concluded that the \"Food and Beverages\" product line has the highest total sales. Therefore, it is recommended that the company should focus on increasing sales of this product line to maximize profits.</b>"
   ]
  }
 ],
 "metadata": {
  "kernelspec": {
   "display_name": "Python 3 (ipykernel)",
   "language": "python",
   "name": "python3"
  },
  "language_info": {
   "codemirror_mode": {
    "name": "ipython",
    "version": 3
   },
   "file_extension": ".py",
   "mimetype": "text/x-python",
   "name": "python",
   "nbconvert_exporter": "python",
   "pygments_lexer": "ipython3",
   "version": "3.9.13"
  }
 },
 "nbformat": 4,
 "nbformat_minor": 5
}
